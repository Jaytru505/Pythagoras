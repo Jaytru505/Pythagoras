{
 "cells": [
  {
   "cell_type": "markdown",
   "id": "cd15a089",
   "metadata": {},
   "source": [
    "<div align=\"center\">\n",
    "  <img src=\"http://vlpavlov.org/Pythagoras-Logo3.svg\"><br>\n",
    "</div>\n",
    "\n",
    "# Intoduction to Swarming: Using Pythagoras in P2P Mode\n",
    "\n",
    "This tutorial explains the core Pythagoras constructs, which allow everyone to easily parallelize their Python programs and execute them in the cloud with just a few extra lines of code. It makes it possible to significantly speed up computationally expensive calculations.\n",
    "\n",
    "Pythagoras supports many alternative deployment models. One of them is a P2P (***peer-to-peer***) deployment. It allows to parallelize program execution by simply launching the program simultaneously on a swarm of local computers (e.g. desktops and laptops in your office or dormitory). This tutorial explains how to use Pythagoras with P2P backend."
   ]
  },
  {
   "cell_type": "markdown",
   "id": "11d0b3aa",
   "metadata": {},
   "source": [
    "### Initial Setup\n",
    "\n",
    "First, let's install and import Pythagoras:"
   ]
  },
  {
   "cell_type": "code",
   "execution_count": 1,
   "id": "54d001e5",
   "metadata": {},
   "outputs": [],
   "source": [
    "!pip install pythagoras --quiet"
   ]
  },
  {
   "cell_type": "code",
   "execution_count": 2,
   "id": "2be270ed",
   "metadata": {},
   "outputs": [],
   "source": [
    "from pythagoras import *"
   ]
  },
  {
   "cell_type": "markdown",
   "id": "aaa1e388",
   "metadata": {},
   "source": [
    "### Hello, P2P World! "
   ]
  },
  {
   "cell_type": "markdown",
   "id": "9665a56e",
   "metadata": {},
   "source": [
    "There is only one key class that we need to use in a P2P Pythagoras program:\n",
    "    \n",
    "* **SharedStorage_P2P_Cloud**: objects of this class are responsible for a virtual cloud; they allow to syncronize execution of multiple instances of your code via a shared folder (e.g. a Dropbox or NFS folder)."
   ]
  },
  {
   "cell_type": "code",
   "execution_count": 3,
   "id": "4ed3bffe",
   "metadata": {},
   "outputs": [],
   "source": [
    "# my_project is a name of a shared folder. You can run the same program on multiple computers. \n",
    "# If they all have a shared folder (e.g. shared via Google Drive), \n",
    "# then concurrently running instances of your program \n",
    "# will be able to coordinate work with each other through this folder.\n",
    "\n",
    "my_cloud = SharedStorage_P2P_Cloud(shared_dir_name = \"my_project\")"
   ]
  },
  {
   "cell_type": "markdown",
   "id": "63149505",
   "metadata": {},
   "source": [
    "The **SharedStorage_P2P_Cloud.add_pure_function** decorator allows to register your function with a Pythagoras cloud. Once registerd, a fucntion gets a few new capabilities which we will discuss below.\n",
    "\n",
    "Not every function can be added to Pythagoras cloud. There are 3 key requirements:\n",
    "* a function must be [pure](https://en.wikipedia.org/wiki/Pure_function): fully deterministic, no side-effect function whose output value depends solidly on input values;\n",
    "* a function must not throw exceptions;\n",
    "* a function is only allowed to accept keyword parameters, positional parameters are forbidden."
   ]
  },
  {
   "cell_type": "code",
   "execution_count": 4,
   "id": "1bc338ea",
   "metadata": {},
   "outputs": [],
   "source": [
    "@my_cloud.add_pure_function\n",
    "def very_slow_function(*, important_parameter:int):\n",
    "    \"\"\"     >>>>>       THIS FUNCTION RUNS FOR ABOUT AN HOUR       <<<<<     \"\"\"\n",
    "    return important_parameter**2"
   ]
  },
  {
   "cell_type": "markdown",
   "id": "75984170",
   "metadata": {},
   "source": [
    "There are several main benefits of turning your regular function into a cloud-hosted function. The most important of them: (1) Cloud-based memoization (caching), (2) Cloud-based remote execution, and (3) Cloud-based parallelization. Let's take a closer look at two the most important of them:"
   ]
  },
  {
   "cell_type": "markdown",
   "id": "fc5a7b82",
   "metadata": {},
   "source": [
    "### Cloud-based Memoization"
   ]
  },
  {
   "cell_type": "markdown",
   "id": "a15972a8",
   "metadata": {},
   "source": [
    "The first time we run a slow function with a specific combination of input arguments, Pythagoras will store the function output in a cache. The next time we we want to run a function with exactly the same input arguments, there will be no need to actually execute it, the output will be retrieved from the cache. \n",
    "\n",
    "The cache is cloud-based. It means, we can run the function once on any computer (either local or cloud-based) and then reuse the cached output on any other computer."
   ]
  },
  {
   "cell_type": "code",
   "execution_count": 5,
   "id": "f109b2aa",
   "metadata": {},
   "outputs": [
    {
     "data": {
      "text/plain": [
       "484"
      ]
     },
     "execution_count": 5,
     "metadata": {},
     "output_type": "execute_result"
    }
   ],
   "source": [
    "# The first execution is very slow: about an hour\n",
    "\n",
    "very_slow_function( important_parameter=22 ) "
   ]
  },
  {
   "cell_type": "code",
   "execution_count": 6,
   "id": "42029495",
   "metadata": {},
   "outputs": [
    {
     "data": {
      "text/plain": [
       "484"
      ]
     },
     "execution_count": 6,
     "metadata": {},
     "output_type": "execute_result"
    }
   ],
   "source": [
    " # The second execution is very fast: a fraction of a second\n",
    "    \n",
    "very_slow_function( important_parameter=22 )"
   ]
  },
  {
   "cell_type": "code",
   "execution_count": 7,
   "id": "4b5c0eec",
   "metadata": {},
   "outputs": [
    {
     "data": {
      "text/plain": [
       "9801"
      ]
     },
     "execution_count": 7,
     "metadata": {},
     "output_type": "execute_result"
    }
   ],
   "source": [
    "# If the function was executed on another computer with important_parameter=99 in the past,\n",
    "# now the execution will be very fast\n",
    "#\n",
    "# However, if the function was never executed on this or another computer with important_parameter=99\n",
    "# then this execution will be very slow. All subsequent executions with mportant_parameter=99\n",
    "# will be fast\n",
    "\n",
    "very_slow_function( important_parameter=99 ) "
   ]
  },
  {
   "cell_type": "markdown",
   "id": "2c092c87",
   "metadata": {},
   "source": [
    "### Cloud-based Parallelization"
   ]
  },
  {
   "cell_type": "markdown",
   "id": "9bd2b753",
   "metadata": {},
   "source": [
    "Pythagoras makes it possible to seamlessly parallelize loops, which execute the same function with different combinations of input values."
   ]
  },
  {
   "cell_type": "code",
   "execution_count": 8,
   "id": "9de4470e",
   "metadata": {},
   "outputs": [
    {
     "data": {
      "text/plain": [
       "[0, 1, 4, 9, 16, 25, 36, 49, 64, 81]"
      ]
     },
     "execution_count": 8,
     "metadata": {},
     "output_type": "execute_result"
    }
   ],
   "source": [
    "# The first time we execute this code, it will take about 10 hours to run. \n",
    "# Of course, all the subsiquent executions will be very fast because of memoization.\n",
    "# But what if we wanted to speed up even the very first execution? \n",
    "\n",
    "results = []\n",
    "\n",
    "for i in range(10):\n",
    "    results.append(   very_slow_function( important_parameter=i )   )\n",
    "    \n",
    "results   "
   ]
  },
  {
   "cell_type": "code",
   "execution_count": 9,
   "id": "2c6c0a90",
   "metadata": {},
   "outputs": [
    {
     "data": {
      "text/plain": [
       "[10000, 10201, 10404, 10609, 10816, 11025, 11236, 11449, 11664, 11881]"
      ]
     },
     "execution_count": 9,
     "metadata": {},
     "output_type": "execute_result"
    }
   ],
   "source": [
    "# Here we are using list compehention to illustrate exactly the same scenario as above:\n",
    "# The first execution will take 10 hours, subsiquent executions will be fast.\n",
    "# But we do not want to wait 10 hours even the first time we run this code.\n",
    "\n",
    "[   very_slow_function( important_parameter=i ) for i in range(100, 110)   ]"
   ]
  },
  {
   "cell_type": "code",
   "execution_count": 10,
   "id": "d83a53cb",
   "metadata": {},
   "outputs": [
    {
     "data": {
      "text/plain": [
       "[4000000,\n",
       " 4004001,\n",
       " 4008004,\n",
       " 4012009,\n",
       " 4016016,\n",
       " 4020025,\n",
       " 4024036,\n",
       " 4028049,\n",
       " 4032064,\n",
       " 4036081]"
      ]
     },
     "execution_count": 10,
     "metadata": {},
     "output_type": "execute_result"
    }
   ],
   "source": [
    "# Pythagoras offers a solution. The example below shows how to \n",
    "# simultaneously launch multiple instances of a function in the cloud.\n",
    "# Calculations will be done in parallel.\n",
    "\n",
    "# Depending on how many computers you have in your swarm (P2P cloud), the executuon will take \n",
    "# less time even for the first run, when the outputs are not cached yet.\n",
    "# For example, if you have 2 computers in your swarm, the code below will take about 5 hours to run instead of 10.\n",
    "# If you have 4 computers in your swarm, the code below will take between 2 and3 hours to run.\n",
    "\n",
    "very_slow_function.sync_parallel(   kw_args( important_parameter=i ) for i in range(2000,2010)   )"
   ]
  },
  {
   "cell_type": "code",
   "execution_count": 11,
   "id": "46be8ec3",
   "metadata": {},
   "outputs": [
    {
     "data": {
      "text/plain": [
       "[4000000,\n",
       " 4004001,\n",
       " 4008004,\n",
       " 4012009,\n",
       " 4016016,\n",
       " 4020025,\n",
       " 4024036,\n",
       " 4028049,\n",
       " 4032064,\n",
       " 4036081]"
      ]
     },
     "execution_count": 11,
     "metadata": {},
     "output_type": "execute_result"
    }
   ],
   "source": [
    "# Of course, all the outputs are stored in the cache. \n",
    "# When we run the same code for the second time (no matter if on this or on another computer),\n",
    "# it will only take a fraction of a second to execute.\n",
    "\n",
    "very_slow_function.sync_parallel(   kw_args( important_parameter=i ) for i in range(2000,2010)   )"
   ]
  },
  {
   "cell_type": "markdown",
   "id": "256cda07",
   "metadata": {},
   "source": [
    "Prefix *sync* in .sync_parallel(...) means that the remote execution is done in a synchronous way: local program waits till all remote functions fully complete and send back their results. The remote execution finishes, the outputs of all functions get back to the local computer, and only then execution flow on the local computer resumes.\n",
    "\n",
    "Alternatively, it is possible to initiate parallel remote execution in an asynchronous way. There is a .async_parallel(...) construct for such scenario, which we will not be discussing in this tutorial."
   ]
  },
  {
   "cell_type": "markdown",
   "id": "5c4435c3",
   "metadata": {},
   "source": [
    "### Deployment and Execution"
   ]
  },
  {
   "cell_type": "markdown",
   "id": "03a9c5e4",
   "metadata": {},
   "source": [
    "To deploy and execute this notebook on a small group of computers, you need to follow a very simple process:\n",
    "1. Use one of the popular file-sharing services to create a shared folder;\n",
    "2. Make sure the file-sharing service agent is installed on all computers in your swarm, \n",
    "and the folder that you created is shared accross all the computers;\n",
    "3. Make sure to point *shared_dir_name* parameter of the SharedStorage_P2P_Cloud constractor\n",
    "to the actual name of the shared folder on each computer in the swarm.\n",
    "4. Launch this notebook on each of the computers in the swarm, and select menu \"Kernel / Restart & Run All\"\n",
    "\n",
    "That's it. All the instances of your code, running on different computers, will automatically syncronize and distribute work via the shared folder."
   ]
  },
  {
   "cell_type": "markdown",
   "id": "dd6e5e72",
   "metadata": {},
   "source": [
    "### Summary"
   ]
  },
  {
   "cell_type": "markdown",
   "id": "514aeebb",
   "metadata": {},
   "source": [
    "By adding a simple decorator in front of your Python function, you can turn it into a serverless code. Another line of code replaces sequential loops with a parallel execution engine that distributes execution over a swarm of local computers. This is a very inexpencive yet efficient solution to speed up complex computational tasks, such as multi-fold cross-validation, grid search for hyperparameter optimization, or feature selection algorithms. "
   ]
  },
  {
   "cell_type": "markdown",
   "id": "fb150409",
   "metadata": {},
   "source": [
    "Pythagoras caches function outputs. Such memoized functions run only once, all subsequent calls on any computer will skip function execution and return previously computed values. It makes complex distributed algorithms cheap to rerun, and easy to resume in case they were interrupted."
   ]
  },
  {
   "cell_type": "markdown",
   "id": "fd308b59",
   "metadata": {},
   "source": [
    "### Conclusion"
   ]
  },
  {
   "cell_type": "markdown",
   "id": "425ec04d",
   "metadata": {},
   "source": [
    "Pythagoras democratizes access to serverless compute for data scientists and other engineers who need to use Python for computationally expensive calculations. It makes engineers' lives simpler, while allowing them to solve more complex problems faster and with smaller budgets."
   ]
  },
  {
   "cell_type": "markdown",
   "id": "65064a61",
   "metadata": {},
   "source": [
    "Pythagoras supports many alternative deployment options. P2P deployment offers a zero-cost DIY virtual cloud \n",
    "that allows small teams to significantly speed up their work by using local desktops and laptops for distributed computing. "
   ]
  }
 ],
 "metadata": {
  "kernelspec": {
   "display_name": "Python 3 (ipykernel)",
   "language": "python",
   "name": "python3"
  },
  "language_info": {
   "codemirror_mode": {
    "name": "ipython",
    "version": 3
   },
   "file_extension": ".py",
   "mimetype": "text/x-python",
   "name": "python",
   "nbconvert_exporter": "python",
   "pygments_lexer": "ipython3",
   "version": "3.9.7"
  }
 },
 "nbformat": 4,
 "nbformat_minor": 5
}
