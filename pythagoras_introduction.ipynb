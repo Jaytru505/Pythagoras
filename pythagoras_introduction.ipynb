{
 "cells": [
  {
   "cell_type": "markdown",
   "id": "cd15a089",
   "metadata": {},
   "source": [
    "<div align=\"center\">\n",
    "  <img src=\"http://vlpavlov.org/Pythagoras-Logo3.svg\"><br>\n",
    "</div>\n",
    "\n",
    "# Pythagoras\n",
    "## Introduction\n",
    "\n",
    "This tutorial explains the core Pythagoras constructs, which allow everyone to easily parallelize their code and execute it in the cloud with just a few lines of extra code."
   ]
  },
  {
   "cell_type": "markdown",
   "id": "11d0b3aa",
   "metadata": {},
   "source": [
    "### Initial setup\n",
    "\n",
    "First, let's install Pythagoras and import FileDirDict class:"
   ]
  },
  {
   "cell_type": "code",
   "execution_count": 128,
   "id": "54d001e5",
   "metadata": {},
   "outputs": [],
   "source": [
    "!pip install pythagoras --quiet"
   ]
  },
  {
   "cell_type": "code",
   "execution_count": 129,
   "id": "2be270ed",
   "metadata": {},
   "outputs": [],
   "source": [
    "from pythagoras import *"
   ]
  },
  {
   "cell_type": "markdown",
   "id": "aaa1e388",
   "metadata": {},
   "source": [
    "### Hello, World! "
   ]
  },
  {
   "cell_type": "markdown",
   "id": "9665a56e",
   "metadata": {},
   "source": [
    "Two key classes we need to create a basic Pythagoras program:\n",
    "    \n",
    "* **ServerlessCloud**: objects of this class are responsible for actuall connection to the cloud (AWS, GCP, Azhure, etc.)\n",
    "* **CloudModule**: objects of thios class are capable to store and execute in the cloud parallelized versions of your functions"
   ]
  },
  {
   "cell_type": "code",
   "execution_count": 132,
   "id": "4ed3bffe",
   "metadata": {},
   "outputs": [],
   "source": [
    "my_cloud = ServerlessCloud(\"some parameters\")\n",
    "my_cloud_module = CloudModule(cloud=my_cloud)"
   ]
  },
  {
   "cell_type": "code",
   "execution_count": 146,
   "id": "1bc338ea",
   "metadata": {},
   "outputs": [],
   "source": [
    "@my_cloud_module.add\n",
    "def very_slow_function(*,very_important_parameter:int):\n",
    "    \"\"\"This function runs for about an hour\"\"\"\n",
    "    return very_important_parameter**2\n",
    "\n",
    "@my_cloud_module.add\n",
    "def another_slow_function(*,best_ever_parameter:int):\n",
    "    \"\"\"This function runs for about an hour\"\"\"\n",
    "    return very_important_parameter**3"
   ]
  },
  {
   "cell_type": "markdown",
   "id": "ff176482",
   "metadata": {},
   "source": [
    "Once we added all our slow functions to the model, we need to \"finalize\" it. This action will push all regestered to the cloud and use all the benefits of seamless access to serverless compute"
   ]
  },
  {
   "cell_type": "code",
   "execution_count": 147,
   "id": "f9770143",
   "metadata": {},
   "outputs": [],
   "source": [
    "my_cloud_module.finalize()"
   ]
  },
  {
   "cell_type": "markdown",
   "id": "75984170",
   "metadata": {},
   "source": [
    "There are three main benefits of turning your regular function to a cloud-hosted function:\n",
    "* Cloud-based memoization\n",
    "* Cloud-based execution\n",
    "* Cloud-based parallelization\n",
    "\n",
    "Let's take a closer look:"
   ]
  },
  {
   "cell_type": "markdown",
   "id": "fc5a7b82",
   "metadata": {},
   "source": [
    "### Cloud-based memoization"
   ]
  },
  {
   "cell_type": "code",
   "execution_count": 148,
   "id": "f109b2aa",
   "metadata": {},
   "outputs": [
    {
     "data": {
      "text/plain": [
       "4"
      ]
     },
     "execution_count": 148,
     "metadata": {},
     "output_type": "execute_result"
    }
   ],
   "source": [
    "very_slow_function(very_important_parameter=2)"
   ]
  },
  {
   "cell_type": "code",
   "execution_count": 149,
   "id": "42029495",
   "metadata": {},
   "outputs": [
    {
     "data": {
      "text/plain": [
       "4"
      ]
     },
     "execution_count": 149,
     "metadata": {},
     "output_type": "execute_result"
    }
   ],
   "source": [
    "very_slow_function(very_important_parameter=2)"
   ]
  },
  {
   "cell_type": "code",
   "execution_count": 150,
   "id": "4b5c0eec",
   "metadata": {},
   "outputs": [
    {
     "data": {
      "text/plain": [
       "100"
      ]
     },
     "execution_count": 150,
     "metadata": {},
     "output_type": "execute_result"
    }
   ],
   "source": [
    "very_slow_function(very_important_parameter=10)"
   ]
  },
  {
   "cell_type": "markdown",
   "id": "67621630",
   "metadata": {},
   "source": [
    "### Cloud-based execution"
   ]
  },
  {
   "cell_type": "code",
   "execution_count": 134,
   "id": "3f50eaa7",
   "metadata": {},
   "outputs": [
    {
     "data": {
      "text/plain": [
       "1"
      ]
     },
     "execution_count": 134,
     "metadata": {},
     "output_type": "execute_result"
    }
   ],
   "source": [
    "very_slow_function.remote( very_important_parameter=12345 )"
   ]
  },
  {
   "cell_type": "code",
   "execution_count": null,
   "id": "d8e0c0f7",
   "metadata": {},
   "outputs": [],
   "source": [
    "very_slow_function.remote( very_important_parameter=12345 )"
   ]
  },
  {
   "cell_type": "code",
   "execution_count": null,
   "id": "fa19fd22",
   "metadata": {},
   "outputs": [],
   "source": [
    "very_slow_function.remote( very_important_parameter=2)"
   ]
  },
  {
   "cell_type": "markdown",
   "id": "2c092c87",
   "metadata": {},
   "source": [
    "### Cloud-based parallelization"
   ]
  },
  {
   "cell_type": "code",
   "execution_count": 151,
   "id": "9de4470e",
   "metadata": {},
   "outputs": [
    {
     "data": {
      "text/plain": [
       "[0, 1, 4, 9, 16]"
      ]
     },
     "execution_count": 151,
     "metadata": {},
     "output_type": "execute_result"
    }
   ],
   "source": [
    "results = []\n",
    "for i in range(5):\n",
    "    results.append(very_slow_function( very_important_parameter=i ))\n",
    "results"
   ]
  },
  {
   "cell_type": "code",
   "execution_count": 152,
   "id": "2c6c0a90",
   "metadata": {},
   "outputs": [
    {
     "data": {
      "text/plain": [
       "[0, 1, 4, 9, 16]"
      ]
     },
     "execution_count": 152,
     "metadata": {},
     "output_type": "execute_result"
    }
   ],
   "source": [
    "[very_slow_function(very_important_parameter=i) for i in range(5)]"
   ]
  },
  {
   "cell_type": "code",
   "execution_count": 153,
   "id": "d83a53cb",
   "metadata": {},
   "outputs": [
    {
     "data": {
      "text/plain": [
       "[9, 0, 1, 16, 4]"
      ]
     },
     "execution_count": 153,
     "metadata": {},
     "output_type": "execute_result"
    }
   ],
   "source": [
    "very_slow_function.parallel(remote(very_important_parameter=i) for i in range(5))"
   ]
  },
  {
   "cell_type": "markdown",
   "id": "dd6e5e72",
   "metadata": {},
   "source": [
    "### Summary of key capabilities"
   ]
  },
  {
   "cell_type": "markdown",
   "id": "514aeebb",
   "metadata": {},
   "source": [
    "By adding a simple decorator in front of your Python function, you can turn it into a serverless code that can run both locally and remotely. Another line of code replaces sequential loops with a parallel execution engine that simultaneously launches hundreds of serverless functions in the cloud. This is a perfect solution for complex computational tasks, such as multi-fold cross-validation, grid search for hyperparameter optimization, or feature selection algorithms."
   ]
  },
  {
   "cell_type": "markdown",
   "id": "fb150409",
   "metadata": {},
   "source": [
    "For pure functions (fully deterministic, no side-effect functions whose output values depend solidly on input values), Pythagoras provides cloud storage to cache function outputs. Such memoized functions run only once, all subsequent calls on any computer will skip function execution and return previously computed values. It makes complex distributed algorithms cheap to rerun, and easy to resume in case they were interrupted."
   ]
  },
  {
   "cell_type": "markdown",
   "id": "e7d83de6",
   "metadata": {},
   "source": [
    "Cloud storage is partially replicated on local computers, which allows Python scripts and notebooks to access stored values very fast. Each piece of data is associated with its hash that serves as a key to access the data. When some data (e.g., a large Pandas DataFrame) must be passed as an input to a serverless function, under the hood Pythagoras pushes the data to the cloud storage, and only passes its hash to the function. This approach optimizes traffic, associated with launching new instances of serverless functions in the cloud, and significantly speeds up the process."
   ]
  },
  {
   "cell_type": "markdown",
   "id": "3aea511e",
   "metadata": {},
   "source": [
    "The typical scenario of working with Pythagoras is to parallelize Python code using backend compute infrastructure, provided by a major cloud vendor. We are currently working on creating reference implementation for AWS, with plans to integrate with GCP and Azhure later. As an alternative, Pythagoras offers a simple P2P model, in which serverless code can be parallelized over a distributed swarm of workstations, on-premise servers, and even laptops. This model is a good solution for resource constrained teams and educational projects."
   ]
  }
 ],
 "metadata": {
  "kernelspec": {
   "display_name": "Python 3 (ipykernel)",
   "language": "python",
   "name": "python3"
  },
  "language_info": {
   "codemirror_mode": {
    "name": "ipython",
    "version": 3
   },
   "file_extension": ".py",
   "mimetype": "text/x-python",
   "name": "python",
   "nbconvert_exporter": "python",
   "pygments_lexer": "ipython3",
   "version": "3.9.7"
  }
 },
 "nbformat": 4,
 "nbformat_minor": 5
}
