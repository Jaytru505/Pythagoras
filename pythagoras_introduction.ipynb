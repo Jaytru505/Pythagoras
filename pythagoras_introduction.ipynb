{
 "cells": [
  {
   "cell_type": "markdown",
   "id": "cd15a089",
   "metadata": {},
   "source": [
    "<div align=\"center\">\n",
    "  <img src=\"http://vlpavlov.org/Pythagoras-Logo3.svg\"><br>\n",
    "</div>\n",
    "\n",
    "# Intoduction to Pythagoras\n",
    "\n",
    "This tutorial explains the core Pythagoras constructs, which allow everyone to easily parallelize their Python programs and execute them in the cloud with just a few extra lines of code. It makes it possible to significantly speed up computationally expensive calculations."
   ]
  },
  {
   "cell_type": "markdown",
   "id": "11d0b3aa",
   "metadata": {},
   "source": [
    "### Initial Setup\n",
    "\n",
    "First, let's install and import Pythagoras:"
   ]
  },
  {
   "cell_type": "code",
   "execution_count": 1,
   "id": "54d001e5",
   "metadata": {},
   "outputs": [],
   "source": [
    "!pip install pythagoras --quiet"
   ]
  },
  {
   "cell_type": "code",
   "execution_count": 2,
   "id": "2be270ed",
   "metadata": {},
   "outputs": [],
   "source": [
    "from pythagoras import *"
   ]
  },
  {
   "cell_type": "markdown",
   "id": "aaa1e388",
   "metadata": {},
   "source": [
    "### Hello, World! "
   ]
  },
  {
   "cell_type": "markdown",
   "id": "9665a56e",
   "metadata": {},
   "source": [
    "There is only one new oblect that we must create in a basic Pythagoras program. This object must be an instance of a class, inherited from **PCloud** class. \n",
    "    \n",
    "* **PCloud**: objects of this class are responsible for actuall connection to the cloud (AWS, GCP, Azhure, etc.); they are also capable to store and execute in the cloud parallelized versions of your functions. \n",
    "\n",
    "**PCloud** is a base class for a hierarchy of many classess that implement alternative deployment models (so called \"backends\"). We will not discuss them in this tutorial."
   ]
  },
  {
   "cell_type": "code",
   "execution_count": 3,
   "id": "4ed3bffe",
   "metadata": {},
   "outputs": [],
   "source": [
    "my_cloud = PCloud(requires = \"some packages\", connection = \"some connection parameters\")"
   ]
  },
  {
   "cell_type": "markdown",
   "id": "63149505",
   "metadata": {},
   "source": [
    "The **PCloud.add_pure_function** decorator allows to register your function with Pythagoras cloud. Once registerd, a fucntion gets a few new capabilities which we will discuss below.\n",
    "\n",
    "Not every function can be added to a cloud module. There are key requirements:\n",
    "* a function must be [pure](https://en.wikipedia.org/wiki/Pure_function): fully deterministic, no side-effect function whose output value depends solidly on input values;\n",
    "* a function is only allowed to accept keyword parameters. Positional parameters are forbidden."
   ]
  },
  {
   "cell_type": "code",
   "execution_count": 4,
   "id": "1bc338ea",
   "metadata": {},
   "outputs": [],
   "source": [
    "@my_cloud.add_pure_function\n",
    "def very_slow_function(*, important_parameter:int):\n",
    "    \"\"\"     >>>>>       THIS FUNCTION RUNS FOR ABOUT AN HOUR       <<<<<     \"\"\"\n",
    "    return important_parameter**2\n",
    "\n",
    "@my_cloud.add_pure_function\n",
    "def another_slow_function(*, best_ever_parameter:int):\n",
    "    \"\"\"     >>>>>       THIS FUNCTION RUNS FOR ABOUT AN HOUR       <<<<<     \"\"\"\n",
    "    return best_ever_parameter**3"
   ]
  },
  {
   "cell_type": "markdown",
   "id": "75984170",
   "metadata": {},
   "source": [
    "There are three main benefits of turning your regular function into a cloud-hosted function:\n",
    "* Cloud-based memoization (caching)\n",
    "* Cloud-based (remote) execution\n",
    "* Cloud-based parallelization\n",
    "\n",
    "Let's take a closer look:"
   ]
  },
  {
   "cell_type": "markdown",
   "id": "fc5a7b82",
   "metadata": {},
   "source": [
    "### Cloud-based Memoization"
   ]
  },
  {
   "cell_type": "markdown",
   "id": "a15972a8",
   "metadata": {},
   "source": [
    "The first time we run a slow function with a specific combination of input arguments, Pythagoras will store the function output in a cache. The next time we we want to run a function with exactly the same input arguments, there will be no need to actually execute it, the output will be retrieved from the cache. \n",
    "\n",
    "The cache is cloud-based. It means, we can run the function once on any computer (either local or cloud-based) and then reuse the cached output on any other computer."
   ]
  },
  {
   "cell_type": "code",
   "execution_count": 5,
   "id": "f109b2aa",
   "metadata": {},
   "outputs": [
    {
     "data": {
      "text/plain": [
       "484"
      ]
     },
     "execution_count": 5,
     "metadata": {},
     "output_type": "execute_result"
    }
   ],
   "source": [
    "# The first execution is very slow: over an hour\n",
    "\n",
    "very_slow_function( important_parameter=22 ) "
   ]
  },
  {
   "cell_type": "code",
   "execution_count": 6,
   "id": "42029495",
   "metadata": {},
   "outputs": [
    {
     "data": {
      "text/plain": [
       "484"
      ]
     },
     "execution_count": 6,
     "metadata": {},
     "output_type": "execute_result"
    }
   ],
   "source": [
    " # The second execution is very fast: a fraction of a second\n",
    "    \n",
    "very_slow_function( important_parameter=22 )"
   ]
  },
  {
   "cell_type": "code",
   "execution_count": 7,
   "id": "4b5c0eec",
   "metadata": {},
   "outputs": [
    {
     "data": {
      "text/plain": [
       "9801"
      ]
     },
     "execution_count": 7,
     "metadata": {},
     "output_type": "execute_result"
    }
   ],
   "source": [
    "# If the function was executed on another computer with important_parameter=99 in the past,\n",
    "# now the execution will be very fast\n",
    "#\n",
    "# However, if the function was never executed on this or another computer with important_parameter=99\n",
    "# then this execution will be very slow. All subsequent executions with mportant_parameter=99\n",
    "# will be fast\n",
    "\n",
    "very_slow_function( important_parameter=99 ) "
   ]
  },
  {
   "cell_type": "markdown",
   "id": "67621630",
   "metadata": {},
   "source": [
    "### Cloud-based Execution"
   ]
  },
  {
   "cell_type": "markdown",
   "id": "a15e7700",
   "metadata": {},
   "source": [
    "Pythagoras allows us to choose whether to execute a specific function on a local computer, or remotely in the cloud. Remote execution happens seamlessly, we do not need to worry about server provisioning, data marshaling, etc."
   ]
  },
  {
   "cell_type": "code",
   "execution_count": 8,
   "id": "ac258b4c",
   "metadata": {},
   "outputs": [
    {
     "data": {
      "text/plain": [
       "7744"
      ]
     },
     "execution_count": 8,
     "metadata": {},
     "output_type": "execute_result"
    }
   ],
   "source": [
    "# When we are executing a function with a new combination of input arguments, it will run locally \n",
    "\n",
    "very_slow_function( important_parameter=88 )"
   ]
  },
  {
   "cell_type": "code",
   "execution_count": 9,
   "id": "3f50eaa7",
   "metadata": {},
   "outputs": [
    {
     "data": {
      "text/plain": [
       "152399025"
      ]
     },
     "execution_count": 9,
     "metadata": {},
     "output_type": "execute_result"
    }
   ],
   "source": [
    "# We can explicitly instruct a function to be executed in the cloud\n",
    "# If we have a slow desktop, remote execution will be faster\n",
    "\n",
    "very_slow_function.sync_remote( important_parameter=12345 )"
   ]
  },
  {
   "cell_type": "code",
   "execution_count": 10,
   "id": "d8e0c0f7",
   "metadata": {},
   "outputs": [
    {
     "data": {
      "text/plain": [
       "152399025"
      ]
     },
     "execution_count": 10,
     "metadata": {},
     "output_type": "execute_result"
    }
   ],
   "source": [
    "# If the output of the function for a specific combination of inputs is available in the cache,\n",
    "# no actual fucntion execution will happen. The output will be simply retrieved from the cache.\n",
    "\n",
    "very_slow_function.sync_remote( important_parameter=12345 )"
   ]
  },
  {
   "cell_type": "code",
   "execution_count": 11,
   "id": "a6fd0b24",
   "metadata": {},
   "outputs": [
    {
     "data": {
      "text/plain": [
       "3025"
      ]
     },
     "execution_count": 11,
     "metadata": {},
     "output_type": "execute_result"
    }
   ],
   "source": [
    "# If the function was executed on a local or a remote computer with important_parameter=55 in the past,\n",
    "# now the execution will be very fast. It will not be an actual execution, but rather a retreival from the cache.\n",
    "#\n",
    "# However, if the function was never executed on this or another computer with important_parameter=55,\n",
    "# then this execution will be slow. However, all subsequent executions with mportant_parameter=55\n",
    "# will be fast\n",
    "\n",
    "very_slow_function.sync_remote( important_parameter=55 )"
   ]
  },
  {
   "cell_type": "markdown",
   "id": "78d621a4",
   "metadata": {},
   "source": [
    "Prefix *sync* in .sync_remote(...) means that the remote execution is done in a synchronous way: local program waits till a remote function fully completes and sends back its results. The remote execution finishes, the output of the function gets back to the local computer, and only then execution flow on the local computer resumes.\n",
    "\n",
    "Alternatively, other distributed computing frameworks allow to initiate remote execution in an asynchronous way. There is a .async_remote(...) syntax for such scenario, which is reserved for the future versions of Pythagoras and currently is not supported. We strongly encourage Pythagoras users to design their programs for the synchronous execution model. Synchronous model makes it way more easy to reason about your code. \n",
    "\n",
    "Some people prefer asynchronous model becouse they think they can better optimise asynchronous programs. But the flipside is increased complexity and cognitive load.  We believe that actual engineers’ productivity is more important than perceived code efficiency.\n",
    "\n",
    "After all, there is a reason why back in 1962 Donald Knuth wrote “*The real problem is that programmers have spent far too much time worrying about efficiency in the wrong places and at the wrong times; premature optimization is the root of all evil (or at least most of it) in programming*”. \n",
    "\n",
    "Even 60 years ago, when computers were super slow, Knuth prioritized human productivity over code efficiency. Why would we take a different stand today?"
   ]
  },
  {
   "cell_type": "markdown",
   "id": "2c092c87",
   "metadata": {},
   "source": [
    "### Cloud-based Parallelization"
   ]
  },
  {
   "cell_type": "markdown",
   "id": "9bd2b753",
   "metadata": {},
   "source": [
    "Pythagoras makes it possible to seamlessly parallelize loops, which execute the same function with different combinations of input values."
   ]
  },
  {
   "cell_type": "code",
   "execution_count": 12,
   "id": "9de4470e",
   "metadata": {},
   "outputs": [
    {
     "data": {
      "text/plain": [
       "[0, 1, 4, 9, 16, 25, 36, 49, 64, 81]"
      ]
     },
     "execution_count": 12,
     "metadata": {},
     "output_type": "execute_result"
    }
   ],
   "source": [
    "# The first time we execute this code, it will take 10 hours to run. \n",
    "# Of course, all the subsiquent executions will be very fast because of memoization.\n",
    "# But what if we wanted to speed up even the very first execution? \n",
    "\n",
    "results = []\n",
    "\n",
    "for i in range(10):\n",
    "    results.append(   very_slow_function( important_parameter=i )   )\n",
    "    \n",
    "results"
   ]
  },
  {
   "cell_type": "code",
   "execution_count": 13,
   "id": "2c6c0a90",
   "metadata": {},
   "outputs": [
    {
     "data": {
      "text/plain": [
       "[10000, 10201, 10404, 10609, 10816, 11025, 11236, 11449, 11664, 11881]"
      ]
     },
     "execution_count": 13,
     "metadata": {},
     "output_type": "execute_result"
    }
   ],
   "source": [
    "# Here we are using list compehention to illustrate exactly the same scenario as above:\n",
    "# The first execution will take 10 hours, subsiquent executions will be fast.\n",
    "# But we do not want to wait 10 hours even the first time we run this code.\n",
    "\n",
    "[   very_slow_function( important_parameter=i ) for i in range(100, 110)   ]"
   ]
  },
  {
   "cell_type": "code",
   "execution_count": 14,
   "id": "d83a53cb",
   "metadata": {},
   "outputs": [
    {
     "data": {
      "text/plain": [
       "[40000, 40401, 40804, 41209, 41616, 42025, 42436, 42849, 43264, 43681]"
      ]
     },
     "execution_count": 14,
     "metadata": {},
     "output_type": "execute_result"
    }
   ],
   "source": [
    "# Pythagoras offers a solution. The example below shows how to \n",
    "# simultaneously launch multiple instances of a function in the cloud.\n",
    "# All the calculations will be done in parallel.\n",
    "# The executuon will take only one hour when we run this codel for the first time.\n",
    "\n",
    "very_slow_function.sync_parallel(   kw_args( important_parameter=i ) for i in range(200,210)   )"
   ]
  },
  {
   "cell_type": "code",
   "execution_count": 15,
   "id": "46be8ec3",
   "metadata": {},
   "outputs": [
    {
     "data": {
      "text/plain": [
       "[40000, 40401, 40804, 41209, 41616, 42025, 42436, 42849, 43264, 43681]"
      ]
     },
     "execution_count": 15,
     "metadata": {},
     "output_type": "execute_result"
    }
   ],
   "source": [
    "# Of course, all the outputs are stored in the cache. \n",
    "# When we run the same code for the second time (no matter if on this or on another computer),\n",
    "# it will only take a fraction of a second to execute.\n",
    "\n",
    "very_slow_function.sync_parallel(   kw_args( important_parameter=i ) for i in range(200,210)   )"
   ]
  },
  {
   "cell_type": "markdown",
   "id": "256cda07",
   "metadata": {},
   "source": [
    "Prefix *sync* in .sync_parallel(...) means that the remote execution is done in a synchronous way: local program waits till all remote functions fully complete and send back their results. The remote execution finishes, the outputs of all functions get back to the local computer, and only then execution flow on the local computer resumes.\n",
    "\n",
    "Alternatively, there is a .async_parallel(...) construct for asynchronous execution, which is currently not implemented and reserved for future versions of Pythagoras."
   ]
  },
  {
   "cell_type": "markdown",
   "id": "dd6e5e72",
   "metadata": {},
   "source": [
    "### Summary of the Key Capabilities"
   ]
  },
  {
   "cell_type": "markdown",
   "id": "514aeebb",
   "metadata": {},
   "source": [
    "By adding a simple decorator in front of your Python function, you can turn it into a serverless code that can run both locally and remotely. Another line of code replaces sequential loops with a parallel execution engine that simultaneously launches hundreds of serverless functions in the cloud. This is a perfect solution for complex computational tasks, such as multi-fold cross-validation, grid search for hyperparameter optimization, or feature selection algorithms."
   ]
  },
  {
   "cell_type": "markdown",
   "id": "fb150409",
   "metadata": {},
   "source": [
    "For pure functions (fully deterministic, no side-effect functions whose output values depend solidly on input values), Pythagoras provides cloud storage to cache function outputs. Such memoized functions run only once, all subsequent calls on any computer will skip function execution and return previously computed values. It makes complex distributed algorithms cheap to rerun, and easy to resume in case they were interrupted."
   ]
  },
  {
   "cell_type": "markdown",
   "id": "e7d83de6",
   "metadata": {},
   "source": [
    "Cloud storage is partially replicated on local computers, which allows Python scripts and notebooks to access stored values very fast. Each piece of data is associated with its hash that serves as a key to access the data. When some data (e.g., a large Pandas DataFrame) must be passed as an input to a serverless function, under the hood Pythagoras pushes the data to the cloud storage, and only passes its hash to the function. This approach optimizes traffic, associated with launching new instances of serverless functions in the cloud, and significantly speeds up the process."
   ]
  },
  {
   "cell_type": "markdown",
   "id": "3aea511e",
   "metadata": {},
   "source": [
    "The typical scenario of working with Pythagoras is to parallelize Python code using backend compute infrastructure, provided by a major cloud vendor. We are currently working on creating reference implementation for AWS, with plans to integrate with GCP and Azhure later. As an alternative, Pythagoras offers a simple P2P model, in which serverless code can be parallelized over a distributed swarm of workstations, on-premise servers, and even laptops. This model is a good solution for resource constrained teams and educational projects."
   ]
  },
  {
   "cell_type": "markdown",
   "id": "fd308b59",
   "metadata": {},
   "source": [
    "### Conclusion"
   ]
  },
  {
   "cell_type": "markdown",
   "id": "425ec04d",
   "metadata": {},
   "source": [
    "Pythagoras democratizes access to serverless compute for data scientists and other engineers who need to use Python for computationally expensive calculations.\n",
    "\n",
    "It makes engineers' lives simpler, while allowing them to solve more complex problems faster and with smaller budgets."
   ]
  }
 ],
 "metadata": {
  "kernelspec": {
   "display_name": "Python 3 (ipykernel)",
   "language": "python",
   "name": "python3"
  },
  "language_info": {
   "codemirror_mode": {
    "name": "ipython",
    "version": 3
   },
   "file_extension": ".py",
   "mimetype": "text/x-python",
   "name": "python",
   "nbconvert_exporter": "python",
   "pygments_lexer": "ipython3",
   "version": "3.9.7"
  }
 },
 "nbformat": 4,
 "nbformat_minor": 5
}
