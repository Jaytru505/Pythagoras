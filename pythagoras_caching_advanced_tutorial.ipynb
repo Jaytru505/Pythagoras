{
 "cells": [
  {
   "cell_type": "markdown",
   "metadata": {
    "collapsed": true,
    "pycharm": {
     "name": "#%% md\n"
    }
   },
   "source": [
    "<div align=\"center\">\n",
    "  <img src=\"http://vlpavlov.org/Pythagoras-Logo3.svg\"><br>\n",
    "</div>\n",
    "\n",
    "# Speed Up Your Data Science Project Using Caching Tools from Pythagoras Package\n",
    "## Advanced Tutorial\n",
    "\n",
    "In the [Introductory Tutorial](Pythagoras_caching_introductory_tutorial.ipynb)\n",
    "we reviewed the basic scenarious\n",
    "of using Pythagoras for persisting caching. We demonstrated how Pythagoras can\n",
    "speed up functions that take basic datatypes as their arguments.\n",
    "\n",
    "But what if you want to cache a function which needs to work with a custom class?\n",
    "Or, what if you need to cache a method of a custom class?\n",
    "Pythagoras offers several extensibility mechanisms to address such cases.\n",
    "These mechanisms will be explained below."
   ]
  },
  {
   "cell_type": "code",
   "execution_count": 1,
   "metadata": {
    "ExecuteTime": {
     "end_time": "2020-07-05T02:42:18.834036Z",
     "start_time": "2020-07-05T02:42:18.658082Z"
    },
    "pycharm": {
     "name": "#%%\n"
    }
   },
   "outputs": [],
   "source": [
    "import numpy as np\n",
    "import pandas as pd\n",
    "import sys\n",
    "import time\n",
    "import logging\n",
    "\n",
    "np.random.seed(42)"
   ]
  },
  {
   "cell_type": "markdown",
   "metadata": {
    "pycharm": {
     "name": "#%% md\n"
    }
   },
   "source": [
    "## Your Custom Classes"
   ]
  },
  {
   "cell_type": "markdown",
   "metadata": {
    "ExecuteTime": {
     "end_time": "2020-07-03T06:16:23.179234Z",
     "start_time": "2020-07-03T06:16:23.176589Z"
    },
    "pycharm": {
     "name": "#%% md\n"
    }
   },
   "source": [
    "### A Naive Example"
   ]
  },
  {
   "cell_type": "code",
   "execution_count": 2,
   "metadata": {
    "ExecuteTime": {
     "end_time": "2020-07-05T02:42:18.837974Z",
     "start_time": "2020-07-05T02:42:18.835315Z"
    },
    "pycharm": {
     "name": "#%%\n"
    }
   },
   "outputs": [],
   "source": [
    "# Suppose, you have a class in your program which stores a US address:\n",
    "\n",
    "class USAddress:\n",
    "    street_address: str\n",
    "    city: str\n",
    "    zip_code: int\n",
    "    state: str\n",
    "\n",
    "    def __init__(self\n",
    "            ,street_address: str\n",
    "            , city: str\n",
    "            , zip_code: int\n",
    "            , state: str) -> None:\n",
    "        self.street_address = street_address\n",
    "        self.city = city\n",
    "        self.zip_code = zip_code\n",
    "        self.state = state"
   ]
  },
  {
   "cell_type": "code",
   "execution_count": 3,
   "metadata": {
    "ExecuteTime": {
     "end_time": "2020-07-05T02:42:18.996648Z",
     "start_time": "2020-07-05T02:42:18.839620Z"
    },
    "pycharm": {
     "name": "#%%\n"
    }
   },
   "outputs": [
    {
     "name": "stderr",
     "output_type": "stream",
     "text": [
      "02:53:41 pythagoras.PickleCache.140339142728768.  [pid:6051]  WARNING: Creating new cache folder ./pickle_cache_files. \n",
      "\n"
     ]
    }
   ],
   "source": [
    "# Now, let's create a function which takes an instance of the class USAddress \n",
    "# as an argument, and let's PickleCache this function\n",
    "\n",
    "from pythagoras import * # this is the library which will provide us with the\n",
    "                         # advanced caching tools\n",
    "\n",
    "my_cache_obj = PickleCache(\n",
    "    cache_dir = \"./pickle_cache_files\" # Here Pythagoras will store cached data\n",
    "    )\n",
    "\n",
    "@my_cache_obj\n",
    "def slowly_check_if_California(an_address:USAddress) -> bool:\n",
    "    state_name = an_address.state.upper()\n",
    "    time.sleep(3)\n",
    "    if state_name == \"CA\" or state_name == \"CALIFORNIA\":\n",
    "        return True\n",
    "    else:\n",
    "        return False\n"
   ]
  },
  {
   "cell_type": "code",
   "execution_count": 4,
   "metadata": {
    "ExecuteTime": {
     "end_time": "2020-07-05T02:42:19.014952Z",
     "start_time": "2020-07-05T02:42:18.998059Z"
    },
    "pycharm": {
     "name": "#%%\n"
    }
   },
   "outputs": [
    {
     "name": "stderr",
     "output_type": "stream",
     "text": [
      "02:53:43 pythagoras.SlimReprBuilder.140339142728816.  [pid:6051]  WARNING: Building default type-based slim_repr <USAddress> for <__main__.USAddress object at 0x7fa340c01b50>.\n",
      "02:53:43 pythagoras.FingerprintReprBuilder.140339142827024.  [pid:6051]  WARNING: Building default type-based fingerprint_repr <USAddress=dict_4{str_14_street_address:str_15_1024 Lytton Ave,str_4_city:str_9_Palo Alto,str_8_zip_code:Int94301,str_5_state:str_2_CA,}> for <USAddress>.\n"
     ]
    },
    {
     "data": {
      "text/plain": [
       "True"
      ]
     },
     "execution_count": 4,
     "metadata": {},
     "output_type": "execute_result"
    }
   ],
   "source": [
    "an_address = USAddress(\"1024 Lytton Ave\", \"Palo Alto\", 94301, \"CA\")\n",
    "slowly_check_if_California(an_address)"
   ]
  },
  {
   "cell_type": "markdown",
   "metadata": {
    "pycharm": {
     "name": "#%% md\n"
    }
   },
   "source": [
    "As you can see above, PickleCache did not know how to deal with your new class, so it generated an error.\n",
    "\n",
    "How to fix it?"
   ]
  },
  {
   "cell_type": "markdown",
   "metadata": {
    "pycharm": {
     "name": "#%% md\n"
    }
   },
   "source": [
    "### Two _repr() methods"
   ]
  },
  {
   "cell_type": "markdown",
   "metadata": {
    "pycharm": {
     "name": "#%% md\n"
    }
   },
   "source": [
    "If you want PickleCache to be able to deal with your new class, you must implement 2 methods in the class:\n",
    "\n",
    "        fingerpint_repr(self, fprepr_builder: FingerprintReprBuilder) -> str\n",
    "\n",
    "        slim_repr(self, srepr_builder: SlimReprBuilder) -> str\n",
    "\n",
    "The first method must return a unique text string. If two objects hold different values,\n",
    "their **fingerpint_repr()** methods should return different strings. It's a digital fingerpint of your object.\n",
    "\n",
    "The second method must return short human-readable string. If two objects hold different values,\n",
    "their **slim_repr()** methods may (or may not) return the same string. It's a concise text summary of the object.\n",
    "\n",
    "* **fingerpint_repr()** returns UNIQUE  string, not necessarily short and not necessarily human-readable.\n",
    "* **slim_repr()** returns SHORT and HUMAN-READABLE string, not necessarily unique.\n",
    "\n",
    "Let's implement these methods for our class. For now, we will ignore their second arguments,\n",
    "as they provide access to advanced functionality beyond the scope of this tutorial."
   ]
  },
  {
   "cell_type": "code",
   "execution_count": 5,
   "metadata": {
    "ExecuteTime": {
     "end_time": "2020-07-05T02:42:27.985688Z",
     "start_time": "2020-07-05T02:42:27.981052Z"
    },
    "pycharm": {
     "name": "#%%\n"
    }
   },
   "outputs": [],
   "source": [
    "class USAddress:\n",
    "    street_address: str\n",
    "    city: str\n",
    "    zip_code: int\n",
    "    state: str\n",
    "\n",
    "    def __init__(self\n",
    "            ,street_address: str\n",
    "            , city: str\n",
    "            , zip_code: int\n",
    "            , state: str) -> None:\n",
    "        self.street_address = street_address\n",
    "        self.city = city\n",
    "        self.zip_code = zip_code\n",
    "        self.state = state\n",
    "\n",
    "    def fingerprint_repr(self, _: FingerprintReprBuilder) -> str:\n",
    "        fingerprint_str = type(self).__name__\n",
    "        fingerprint_str += self.street_address\n",
    "        fingerprint_str += self.city\n",
    "        fingerprint_str += str(self.zip_code)\n",
    "        fingerprint_str += self.state\n",
    "        assert len(fingerprint_str), \"fingerpint_repr can not return an empty string\"\n",
    "        return fingerprint_str\n",
    "\n",
    "    def slim_repr(self , srepr_builder: SlimReprBuilder) -> str:\n",
    "        return \"USAddr_\"+self.state[:2].upper()"
   ]
  },
  {
   "cell_type": "code",
   "execution_count": 6,
   "metadata": {
    "ExecuteTime": {
     "end_time": "2020-07-05T02:42:28.297165Z",
     "start_time": "2020-07-05T02:42:28.294995Z"
    },
    "pycharm": {
     "name": "#%%\n"
    }
   },
   "outputs": [],
   "source": [
    "@my_cache_obj\n",
    "def slowly_check_if_California(an_address:USAddress) -> bool:\n",
    "    state_name = an_address.state.upper()\n",
    "    time.sleep(3)\n",
    "    if state_name == \"CA\" or state_name == \"CALIFORNIA\":\n",
    "        return True\n",
    "    else:\n",
    "        return False"
   ]
  },
  {
   "cell_type": "code",
   "execution_count": 7,
   "metadata": {
    "ExecuteTime": {
     "end_time": "2020-07-05T02:42:31.520886Z",
     "start_time": "2020-07-05T02:42:28.497301Z"
    },
    "pycharm": {
     "name": "#%%\n"
    }
   },
   "outputs": [
    {
     "data": {
      "text/plain": [
       "True"
      ]
     },
     "execution_count": 7,
     "metadata": {},
     "output_type": "execute_result"
    }
   ],
   "source": [
    "an_address = USAddress(\"1024 Lytton Ave\", \"Palo Alto\", 94301, \"CA\")\n",
    "slowly_check_if_California(an_address)"
   ]
  },
  {
   "cell_type": "markdown",
   "metadata": {
    "pycharm": {
     "name": "#%% md\n"
    }
   },
   "source": [
    "Take a look at the log message above. Specifically, take a look at filename of a cache file.\n",
    "As you can see, Pythagoras uses outcome of **slim_repr()** method to compose a name of a cache file.\n",
    "It uses the outcome of **fingerprint_repr()** in a similar way, but indirectly - the returned string\n",
    "was used to calculate final fingerprint string 16132cef23a875, which then became a part of the file name.\n",
    "\n",
    "Now, let's see how our cache works when a function is called again with the same arguments:"
   ]
  },
  {
   "cell_type": "code",
   "execution_count": 8,
   "metadata": {
    "ExecuteTime": {
     "end_time": "2020-07-05T02:42:31.533225Z",
     "start_time": "2020-07-05T02:42:31.522526Z"
    },
    "pycharm": {
     "name": "#%%\n"
    }
   },
   "outputs": [
    {
     "data": {
      "text/plain": [
       "True"
      ]
     },
     "execution_count": 8,
     "metadata": {},
     "output_type": "execute_result"
    }
   ],
   "source": [
    "slowly_check_if_California(an_address)"
   ]
  },
  {
   "cell_type": "markdown",
   "metadata": {
    "pycharm": {
     "name": "#%% md\n"
    }
   },
   "source": [
    "If you want to PickleCache methods of your class, you must always implement **fingerpint_repr()** and **slim_repr()**.\n",
    "Why? Very simple. Your methods will always get *self* as the first argument. As we discussed above,\n",
    "it means *self* must support these 2 methods - otherwise PickleCache will refuse to work.\n",
    "\n",
    "Let's take a look at the example."
   ]
  },
  {
   "cell_type": "code",
   "execution_count": 9,
   "metadata": {
    "ExecuteTime": {
     "end_time": "2020-07-05T02:42:31.539163Z",
     "start_time": "2020-07-05T02:42:31.534831Z"
    },
    "pycharm": {
     "name": "#%%\n"
    }
   },
   "outputs": [],
   "source": [
    "class USAddress:\n",
    "    street_address: str\n",
    "    city: str\n",
    "    zip_code: int\n",
    "    state: str\n",
    "\n",
    "    def __init__(self\n",
    "            ,street_address: str\n",
    "            , city: str\n",
    "            , zip_code: int\n",
    "            , state: str) -> None:\n",
    "        self.street_address = street_address\n",
    "        self.city = city\n",
    "        self.zip_code = zip_code\n",
    "        self.state = state\n",
    "\n",
    "    \n",
    "    def fingerprint_repr(self, _: FingerprintReprBuilder) -> str:\n",
    "        fingerprint_str = type(self).__name__\n",
    "        fingerprint_str += self.street_address\n",
    "        fingerprint_str += self.city\n",
    "        fingerprint_str += str(self.zip_code)\n",
    "        fingerprint_str += self.state\n",
    "        assert len(fingerprint_str), \"fingerpint_repr can not return an empty string\"\n",
    "        return fingerprint_str\n",
    "\n",
    "\n",
    "    def slim_repr(self , srepr_builder: SlimReprBuilder) -> str:\n",
    "        slim_str =  \"USAddr_\"+self.state[:2].upper()\n",
    "        assert len(slim_str), \"slim_repr can not return an empty string\"\n",
    "        return slim_str\n",
    "\n",
    "  \n",
    "    @my_cache_obj\n",
    "    def average_household_income_in_the_neighbourhood(self, year:int) -> int:\n",
    "        time.sleep(2)\n",
    "        return 59000"
   ]
  },
  {
   "cell_type": "code",
   "execution_count": 10,
   "metadata": {
    "ExecuteTime": {
     "end_time": "2020-07-05T02:42:33.567379Z",
     "start_time": "2020-07-05T02:42:31.540786Z"
    },
    "pycharm": {
     "name": "#%%\n"
    }
   },
   "outputs": [
    {
     "data": {
      "text/plain": [
       "59000"
      ]
     },
     "execution_count": 10,
     "metadata": {},
     "output_type": "execute_result"
    }
   ],
   "source": [
    "an_address = USAddress(\"1024 Lytton Ave\", \"Palo Alto\", 94301, \"CA\")\n",
    "\n",
    "an_address.average_household_income_in_the_neighbourhood(2019)"
   ]
  },
  {
   "cell_type": "markdown",
   "metadata": {
    "pycharm": {
     "name": "#%% md\n"
    }
   },
   "source": [
    "Please, inspect the logging output above. While technically method **average_household_income_in_the_neighbourhood()**\n",
    "was called with just one argument, filename of a cache-file clearly shows that two arguments were processed.\n",
    "\n",
    "Now, let's try again to see if our cache saves time:"
   ]
  },
  {
   "cell_type": "code",
   "execution_count": 11,
   "metadata": {
    "ExecuteTime": {
     "end_time": "2020-07-05T02:42:33.580437Z",
     "start_time": "2020-07-05T02:42:33.569033Z"
    },
    "pycharm": {
     "name": "#%%\n"
    }
   },
   "outputs": [
    {
     "data": {
      "text/plain": [
       "59000"
      ]
     },
     "execution_count": 11,
     "metadata": {},
     "output_type": "execute_result"
    }
   ],
   "source": [
    "an_address.average_household_income_in_the_neighbourhood(2019)"
   ]
  },
  {
   "cell_type": "markdown",
   "metadata": {
    "pycharm": {
     "name": "#%% md\n"
    }
   },
   "source": [
    "Indeed, it does!"
   ]
  },
  {
   "cell_type": "markdown",
   "metadata": {
    "ExecuteTime": {
     "end_time": "2020-07-03T04:11:31.722713Z",
     "start_time": "2020-07-03T04:11:31.718650Z"
    },
    "pycharm": {
     "name": "#%% md\n"
    }
   },
   "source": [
    "### Disabling caching for individual objects"
   ]
  },
  {
   "cell_type": "markdown",
   "metadata": {
    "pycharm": {
     "name": "#%% md\n"
    }
   },
   "source": [
    "In the Introductory Tutorial we explained how to temporarily disable caching functionality using boolean **read_from_cache** and **write_to_cache** parameters. We demonstrated how to use these parameters on 2 levels:\n",
    "\n",
    "* On the level of PickleCache object by passing the parameters while creating the cache. In this scenario **read_from_cache** and **write_to_cache** parameters change behavior  of the entire cache.\n",
    "* On the level of individual calls of cache-decorated functions by passing the parameters while calling these functions.  In this scenario **read_from_cache** and **write_to_cache** parameters only impact caching behavior during those individual calls.\n",
    "\n",
    "There is also a third way to use **read_from_cache** and **write_to_cache**, on the level of individual objects that have cache-decorated methods. In this scenario, the parameters will only impact behavior of the methods of the specific objects.\n",
    "\n",
    "Check the example below. Inspect the logging messages. Notice, that for the 2nd address caching functionality has been disabled:"
   ]
  },
  {
   "cell_type": "code",
   "execution_count": 12,
   "metadata": {
    "ExecuteTime": {
     "end_time": "2020-07-05T02:42:37.615112Z",
     "start_time": "2020-07-05T02:42:33.582569Z"
    },
    "pycharm": {
     "name": "#%%\n"
    }
   },
   "outputs": [],
   "source": [
    "address_1 = USAddress(\"1024 Lytton Ave\", \"Palo Alto\", 94301, \"CA\")\n",
    "address_2 = USAddress(\"2048 Everett Ave\", \"Palo Alto\", 94301, \"CA\")\n",
    "\n",
    "address_2.write_to_cache = False\n",
    "address_2.read_from_cache = False\n",
    "\n",
    "ahi_1 = address_1.average_household_income_in_the_neighbourhood(1980)\n",
    "ahi_2 = address_2.average_household_income_in_the_neighbourhood(1980)"
   ]
  },
  {
   "cell_type": "code",
   "execution_count": 13,
   "metadata": {
    "ExecuteTime": {
     "end_time": "2020-07-05T02:42:39.644515Z",
     "start_time": "2020-07-05T02:42:37.617073Z"
    },
    "pycharm": {
     "name": "#%%\n"
    }
   },
   "outputs": [],
   "source": [
    "ahi_1 = address_1.average_household_income_in_the_neighbourhood(1980)\n",
    "ahi_2 = address_2.average_household_income_in_the_neighbourhood(1980)"
   ]
  },
  {
   "cell_type": "markdown",
   "metadata": {},
   "source": [
    "There are 3 different levels where you can define optional boolean **read_from_cache** and **write_to_cache** parameters. You can pass them to PickleCache object when you create it, you can set them as attributes of individual objects that have PickleCache-decorated methods, and you can also pass them as arguments to PickleCache-decorated methods when you call the methods. \n",
    "\n",
    "What is the order of precedence if conflicting values of these parameters are defined on different levels?\n",
    "\n",
    "**read_from_cache** and **write_to_cache** parameters, passed to methods during the individual calls, take the highest precedence and define PickleCache behavior for those individual calls. If **read_from_cache** and **write_to_cache** parameters were not passed (or if None values were passed) as method arguments, then object attributes define the caching behavior. Finally, if an object does not have  **read_from_cache** and **write_to_cache** attributes (or it does, but their values are None), then the caching behavior is defined by what was set when PickleCache constructor was called. \n",
    "\n",
    "This 3-level model allows for fine-grained control of caching mechanism."
   ]
  },
  {
   "cell_type": "markdown",
   "metadata": {},
   "source": [
    "## Third-Party Custom Classes"
   ]
  },
  {
   "cell_type": "markdown",
   "metadata": {},
   "source": [
    "Now, suppose you are using a third-party library. It is written by someone else,\n",
    "you have no way to force them to implement **fingerprint_repr()** and **slim_repr()** methods in their classes.\n",
    "\n",
    "        class InternationalAddress:\n",
    "            street_address: str\n",
    "            city: str\n",
    "            province: str\n",
    "            postal_code: int\n",
    "            country: str\n",
    "\n",
    "Still, your function uses these classes and you need to cache the function. What to do?"
   ]
  },
  {
   "cell_type": "markdown",
   "metadata": {},
   "source": [
    "The easiest way is to implement custom representation handlers and pass them to PickleCache constructor.\n",
    "These are two fucntions which take any object, and return either None or a string.\n",
    "They return None if they do not know how to build slim/fingerprint string for an object.\n",
    "And they return a string with slim/fingerprint representation when they know how to create such a string.\n",
    "\n",
    "Below is an example."
   ]
  },
  {
   "cell_type": "code",
   "execution_count": 14,
   "metadata": {
    "ExecuteTime": {
     "end_time": "2020-07-05T02:42:42.672852Z",
     "start_time": "2020-07-05T02:42:39.646814Z"
    },
    "pycharm": {
     "name": "#%%\n"
    }
   },
   "outputs": [
    {
     "data": {
      "text/plain": [
       "False"
      ]
     },
     "execution_count": 14,
     "metadata": {},
     "output_type": "execute_result"
    }
   ],
   "source": [
    "############## Third-Party Code, You Can Not Modify It ############################\n",
    "\n",
    "class InternationalAddress:\n",
    "    street_address: str\n",
    "    city: str\n",
    "    province: str\n",
    "    postal_code: int\n",
    "    country: str\n",
    "\n",
    "    def __init__(self\n",
    "            , street_address: str\n",
    "            , city: str\n",
    "            , postal_code: int\n",
    "            , province: str\n",
    "            , country:str) -> None:\n",
    "        self.street_address = street_address\n",
    "        self.city = city\n",
    "        self.postal_code = postal_code\n",
    "        self.province = province\n",
    "        self.country = country\n",
    "\n",
    "############## Your Code, You Write It ############################\n",
    "\n",
    "def my_slim_repr_handler(an_object:Any,_:SlimReprBuilder) -> Optional[str]:\n",
    "    if type(an_object) == InternationalAddress:\n",
    "        slim_str = \"IntAddr_\" + an_object.country[:3].upper()\n",
    "        return slim_str\n",
    "    else:\n",
    "        return None\n",
    "\n",
    "def my_fingerprint_repr_handler(an_object:Any,_:FingerprintReprBuilder) -> Optional[str]:\n",
    "    if type(an_object) == InternationalAddress:\n",
    "        fingerprint_str = type(an_object).__name__\n",
    "        fingerprint_str += an_object.street_address\n",
    "        fingerprint_str += an_object.city\n",
    "        fingerprint_str += an_object.province\n",
    "        fingerprint_str += str(an_object.postal_code)\n",
    "        fingerprint_str += an_object.country\n",
    "        return fingerprint_str\n",
    "    else:\n",
    "        return None\n",
    "\n",
    "my_custom_cache_obj = PickleCache(\n",
    "    cache_dir = \"./pickle_cache_files\"   \n",
    "    , custom_slim_repr_handler = my_slim_repr_handler\n",
    "    , custom_fingerprint_repr_handler = my_fingerprint_repr_handler\n",
    "    )\n",
    "\n",
    "@my_custom_cache_obj\n",
    "def slowly_check_if_Canada(an_address:InternationalAddress) -> bool:\n",
    "    state_name = an_address.country.upper()\n",
    "    time.sleep(3)\n",
    "    if state_name == \"CANADA\":\n",
    "        return True\n",
    "    else:\n",
    "        return False\n",
    "\n",
    "an_address = InternationalAddress(\"1024 Lytton Ave\", \"Palo Alto\", 94301, \"California\",\"USA\")\n",
    "\n",
    "slowly_check_if_Canada(an_address)"
   ]
  },
  {
   "cell_type": "code",
   "execution_count": 15,
   "metadata": {
    "ExecuteTime": {
     "end_time": "2020-07-05T02:42:42.684288Z",
     "start_time": "2020-07-05T02:42:42.674434Z"
    },
    "pycharm": {
     "name": "#%%\n"
    }
   },
   "outputs": [
    {
     "data": {
      "text/plain": [
       "False"
      ]
     },
     "execution_count": 15,
     "metadata": {},
     "output_type": "execute_result"
    }
   ],
   "source": [
    "slowly_check_if_Canada(an_address)"
   ]
  },
  {
   "cell_type": "markdown",
   "metadata": {},
   "source": [
    "Please, inspect the logging outputs from the two cells above to better understand what happened.\n",
    "Pay attention to the name of the cache file."
   ]
  },
  {
   "cell_type": "markdown",
   "metadata": {},
   "source": [
    "## Next Steps"
   ]
  },
  {
   "cell_type": "markdown",
   "metadata": {},
   "source": [
    "Congratulations! You are now well equipped to speed up your .csv file-loading ans subsequent feature engineering code using Pythagoras PickleCache.\n",
    "\n",
    "In these 2 tutorials you have learned: \n",
    "* how to use PickleCache with popular datatypes (such as floats, lists, and Pandas DataFrames);\n",
    "* how to write your own classes compatible with PickleCache;\n",
    "* how to make PickleCache work with thirt-party classes."
   ]
  },
  {
   "cell_type": "markdown",
   "metadata": {},
   "source": [
    "In the late 1880th, psychologist Hermann Ebbinghaus discovered what he called \"the forgetting curve\": roughly 56% of new information is forgotten in one hour, 66% after a day, and 75% after six days. Most probably, you will forget about PickleCache in a week. \n",
    "\n",
    "But there is a simple strategy to fight this fenomena: practice. Please, ***SPEND ANOTHER HOUR TODAY PRACTICING USING PYTHAGORAS PICKLECACHE IN ONE OF YOUR REAL-LIFE PROJECTS***. It will imporve project performance as well as will help you remember how to use PickleCache."
   ]
  }
 ],
 "metadata": {
  "kernelspec": {
   "display_name": "Python 3 (ipykernel)",
   "language": "python",
   "name": "python3"
  },
  "language_info": {
   "codemirror_mode": {
    "name": "ipython",
    "version": 3
   },
   "file_extension": ".py",
   "mimetype": "text/x-python",
   "name": "python",
   "nbconvert_exporter": "python",
   "pygments_lexer": "ipython3",
   "version": "3.9.7"
  },
  "toc": {
   "base_numbering": 1,
   "nav_menu": {},
   "number_sections": true,
   "sideBar": true,
   "skip_h1_title": false,
   "title_cell": "Table of Contents",
   "title_sidebar": "Contents",
   "toc_cell": false,
   "toc_position": {},
   "toc_section_display": true,
   "toc_window_display": false
  },
  "widgets": {
   "application/vnd.jupyter.widget-state+json": {
    "state": {},
    "version_major": 2,
    "version_minor": 0
   }
  }
 },
 "nbformat": 4,
 "nbformat_minor": 1
}