{
 "cells": [
  {
   "cell_type": "markdown",
   "metadata": {
    "pycharm": {
     "name": "#%% md\n"
    }
   },
   "source": [
    "<div align=\"center\">\n",
    "  <img src=\"http://vlpavlov.org/Pythagoras-Logo3.svg\"><br>\n",
    "</div>\n",
    "\n",
    "# Speed Up Your Data Science Project Using Persistent Caching Tools from Pythagoras Package\n",
    "\n",
    "## Introductory Tutorial\n",
    "\n",
    "Work with large dataframes could be slow. This notebook demonstrates how Pythagoras \n",
    "can help you win extra seconds and minutes (sometimes - hours) every time you need \n",
    "to load a large csv file or to execute a complex data-processing function."
   ]
  },
  {
   "cell_type": "code",
   "execution_count": 1,
   "metadata": {
    "ExecuteTime": {
     "end_time": "2020-07-05T23:52:49.443681Z",
     "start_time": "2020-07-05T23:52:49.260329Z"
    },
    "pycharm": {
     "name": "#%%\n"
    }
   },
   "outputs": [],
   "source": [
    "import numpy as np\n",
    "import pandas as pd\n",
    "import sys\n",
    "import time\n",
    "import logging\n",
    "\n",
    "np.random.seed(42)"
   ]
  },
  {
   "cell_type": "markdown",
   "metadata": {
    "pycharm": {
     "name": "#%% md\n"
    }
   },
   "source": [
    "## How To Cache Function Outputs"
   ]
  },
  {
   "cell_type": "markdown",
   "metadata": {
    "pycharm": {
     "name": "#%% md\n"
    }
   },
   "source": [
    "### A slow function"
   ]
  },
  {
   "cell_type": "markdown",
   "metadata": {},
   "source": [
    "Let's assume we have an important function that \n",
    "takes some unpleasantly long time to run:"
   ]
  },
  {
   "cell_type": "code",
   "execution_count": 2,
   "metadata": {
    "ExecuteTime": {
     "end_time": "2020-07-05T23:52:49.447888Z",
     "start_time": "2020-07-05T23:52:49.444981Z"
    }
   },
   "outputs": [],
   "source": [
    "# Let's create a sample DataFrame to experiment with\n",
    "\n",
    "a_dataframe = pd.DataFrame(\n",
    "    data = {\n",
    "        'COL_1': [1.1, 2.2, 3.3]\n",
    "        ,'COL_2': [4.4, 5.5, None]\n",
    "        ,'COL_3': [7.7, 8.8, 9.9]\n",
    "        ,'COL_4': [None, 11.11, 12.12]\n",
    "    })   "
   ]
  },
  {
   "cell_type": "code",
   "execution_count": 3,
   "metadata": {
    "ExecuteTime": {
     "end_time": "2020-07-05T23:52:49.462671Z",
     "start_time": "2020-07-05T23:52:49.450197Z"
    }
   },
   "outputs": [
    {
     "data": {
      "text/html": [
       "<div>\n",
       "<style scoped>\n",
       "    .dataframe tbody tr th:only-of-type {\n",
       "        vertical-align: middle;\n",
       "    }\n",
       "\n",
       "    .dataframe tbody tr th {\n",
       "        vertical-align: top;\n",
       "    }\n",
       "\n",
       "    .dataframe thead th {\n",
       "        text-align: right;\n",
       "    }\n",
       "</style>\n",
       "<table border=\"1\" class=\"dataframe\">\n",
       "  <thead>\n",
       "    <tr style=\"text-align: right;\">\n",
       "      <th></th>\n",
       "      <th>COL_1</th>\n",
       "      <th>COL_2</th>\n",
       "      <th>COL_3</th>\n",
       "      <th>COL_4</th>\n",
       "    </tr>\n",
       "  </thead>\n",
       "  <tbody>\n",
       "    <tr>\n",
       "      <th>0</th>\n",
       "      <td>1.1</td>\n",
       "      <td>4.4</td>\n",
       "      <td>7.7</td>\n",
       "      <td>NaN</td>\n",
       "    </tr>\n",
       "    <tr>\n",
       "      <th>1</th>\n",
       "      <td>2.2</td>\n",
       "      <td>5.5</td>\n",
       "      <td>8.8</td>\n",
       "      <td>11.11</td>\n",
       "    </tr>\n",
       "    <tr>\n",
       "      <th>2</th>\n",
       "      <td>3.3</td>\n",
       "      <td>NaN</td>\n",
       "      <td>9.9</td>\n",
       "      <td>12.12</td>\n",
       "    </tr>\n",
       "  </tbody>\n",
       "</table>\n",
       "</div>"
      ],
      "text/plain": [
       "   COL_1  COL_2  COL_3  COL_4\n",
       "0    1.1    4.4    7.7    NaN\n",
       "1    2.2    5.5    8.8  11.11\n",
       "2    3.3    NaN    9.9  12.12"
      ]
     },
     "execution_count": 3,
     "metadata": {},
     "output_type": "execute_result"
    }
   ],
   "source": [
    "a_dataframe"
   ]
  },
  {
   "cell_type": "code",
   "execution_count": 4,
   "metadata": {
    "ExecuteTime": {
     "end_time": "2020-07-05T23:52:49.466890Z",
     "start_time": "2020-07-05T23:52:49.464619Z"
    },
    "pycharm": {
     "name": "#%%\n"
    }
   },
   "outputs": [],
   "source": [
    "# Now, let's create a slow function.\n",
    "# In real life, such slow function could be a part of \n",
    "# feature-engineering pipeline\n",
    "\n",
    "def slowly_process_dataframe(df:pd.core.frame.DataFrame, a:float):\n",
    "    result = df + a\n",
    "    time.sleep(3)\n",
    "    return result"
   ]
  },
  {
   "cell_type": "code",
   "execution_count": 5,
   "metadata": {
    "ExecuteTime": {
     "end_time": "2020-07-05T23:52:52.474399Z",
     "start_time": "2020-07-05T23:52:49.468113Z"
    },
    "pycharm": {
     "name": "#%%\n"
    }
   },
   "outputs": [
    {
     "name": "stdout",
     "output_type": "stream",
     "text": [
      "CPU times: user 662 µs, sys: 741 µs, total: 1.4 ms\n",
      "Wall time: 3 s\n"
     ]
    }
   ],
   "source": [
    "%%time\n",
    "demo_result = slowly_process_dataframe(a_dataframe,3.14)"
   ]
  },
  {
   "cell_type": "code",
   "execution_count": 6,
   "metadata": {
    "ExecuteTime": {
     "end_time": "2020-07-05T23:52:52.481596Z",
     "start_time": "2020-07-05T23:52:52.476032Z"
    }
   },
   "outputs": [
    {
     "data": {
      "text/html": [
       "<div>\n",
       "<style scoped>\n",
       "    .dataframe tbody tr th:only-of-type {\n",
       "        vertical-align: middle;\n",
       "    }\n",
       "\n",
       "    .dataframe tbody tr th {\n",
       "        vertical-align: top;\n",
       "    }\n",
       "\n",
       "    .dataframe thead th {\n",
       "        text-align: right;\n",
       "    }\n",
       "</style>\n",
       "<table border=\"1\" class=\"dataframe\">\n",
       "  <thead>\n",
       "    <tr style=\"text-align: right;\">\n",
       "      <th></th>\n",
       "      <th>COL_1</th>\n",
       "      <th>COL_2</th>\n",
       "      <th>COL_3</th>\n",
       "      <th>COL_4</th>\n",
       "    </tr>\n",
       "  </thead>\n",
       "  <tbody>\n",
       "    <tr>\n",
       "      <th>0</th>\n",
       "      <td>4.24</td>\n",
       "      <td>7.54</td>\n",
       "      <td>10.84</td>\n",
       "      <td>NaN</td>\n",
       "    </tr>\n",
       "    <tr>\n",
       "      <th>1</th>\n",
       "      <td>5.34</td>\n",
       "      <td>8.64</td>\n",
       "      <td>11.94</td>\n",
       "      <td>14.25</td>\n",
       "    </tr>\n",
       "    <tr>\n",
       "      <th>2</th>\n",
       "      <td>6.44</td>\n",
       "      <td>NaN</td>\n",
       "      <td>13.04</td>\n",
       "      <td>15.26</td>\n",
       "    </tr>\n",
       "  </tbody>\n",
       "</table>\n",
       "</div>"
      ],
      "text/plain": [
       "   COL_1  COL_2  COL_3  COL_4\n",
       "0   4.24   7.54  10.84    NaN\n",
       "1   5.34   8.64  11.94  14.25\n",
       "2   6.44    NaN  13.04  15.26"
      ]
     },
     "execution_count": 6,
     "metadata": {},
     "output_type": "execute_result"
    }
   ],
   "source": [
    "demo_result"
   ]
  },
  {
   "cell_type": "markdown",
   "metadata": {
    "pycharm": {
     "name": "#%% md\n"
    }
   },
   "source": [
    "### A slow function + Pythagoras"
   ]
  },
  {
   "cell_type": "markdown",
   "metadata": {
    "pycharm": {
     "name": "#%% md\n"
    }
   },
   "source": [
    "It took 3+ seconds to execute **slowly_process_dataframe()** in the cell above.\n",
    "Let's see how Pythagoras helps speed this up:"
   ]
  },
  {
   "cell_type": "code",
   "execution_count": 7,
   "metadata": {
    "ExecuteTime": {
     "end_time": "2020-07-05T23:52:52.599311Z",
     "start_time": "2020-07-05T23:52:52.483110Z"
    },
    "pycharm": {
     "name": "#%%\n"
    }
   },
   "outputs": [
    {
     "name": "stderr",
     "output_type": "stream",
     "text": [
      "02:55:51 pythagoras.PickleCache.140652536762672.  [pid:6142]  WARNING: Creating new cache folder ./cache_files. \n",
      "\n"
     ]
    }
   ],
   "source": [
    "import pythagoras # this is the library which will provide us with the\n",
    "                  # advanced caching tools\n",
    "\n",
    "demo_cache_obj = pythagoras.PickleCache(\n",
    "    cache_dir = \"./cache_files\"   # Here Pythagoras will store cashed data, \n",
    "                                  # if/when it needs to.\n",
    "    ,input_dir = \".\"  # From here Pythagoras will read .csv files, \n",
    "                      # if/when asked.\n",
    "    )"
   ]
  },
  {
   "cell_type": "code",
   "execution_count": 8,
   "metadata": {
    "ExecuteTime": {
     "end_time": "2020-07-05T23:52:52.618135Z",
     "start_time": "2020-07-05T23:52:52.601845Z"
    },
    "pycharm": {
     "name": "#%%\n"
    }
   },
   "outputs": [
    {
     "name": "stdout",
     "output_type": "stream",
     "text": [
      "PickleCache in directory <./cache_files> contains 0 files, with total size 0 B. There are 275 Gb of free space available in the directory. Cache files are expected to have <.pkl> extension. Input files should be located in <.> folder, which contains 218 files, with total size 941 Kb. Cache READER is ACTIVE: cached versions of objects are loaded from disk if they are available there. Cache WRITER is ACTIVE: new objects get saved to disk as they are created. Names of cache files can not be longer than 250 characters. The following KEY-VALUE pairs will determine caching behaviour if they are present among function parameters or attributes of the parameters on any nested level: {'random_state': None}; a presence of an attribute or a parameter with the KEY name will disable caching, unless the parameter/attribute is set to VALUE. Logger pythagoras.PickleCache.140652536762672.demo_cache_obj (WARNING)\n"
     ]
    }
   ],
   "source": [
    "print(demo_cache_obj) # print the status of the cache "
   ]
  },
  {
   "cell_type": "code",
   "execution_count": 9,
   "metadata": {
    "ExecuteTime": {
     "end_time": "2020-07-05T23:52:52.622040Z",
     "start_time": "2020-07-05T23:52:52.619996Z"
    },
    "pycharm": {
     "name": "#%%\n"
    }
   },
   "outputs": [],
   "source": [
    "# This time we add a decorator while creating our function \n",
    "# everything else is exactly the same as above\n",
    "@demo_cache_obj\n",
    "def slowly_process_dataframe(df:pd.core.frame.DataFrame, a:float):\n",
    "    result = df + a\n",
    "    time.sleep(3)\n",
    "    return result"
   ]
  },
  {
   "cell_type": "code",
   "execution_count": 10,
   "metadata": {
    "ExecuteTime": {
     "end_time": "2020-07-05T23:52:55.668575Z",
     "start_time": "2020-07-05T23:52:52.623267Z"
    },
    "pycharm": {
     "name": "#%%\n"
    }
   },
   "outputs": [
    {
     "name": "stdout",
     "output_type": "stream",
     "text": [
      "CPU times: user 23.6 ms, sys: 3.94 ms, total: 27.6 ms\n",
      "Wall time: 3.04 s\n"
     ]
    }
   ],
   "source": [
    "%%time\n",
    "demo_result = slowly_process_dataframe(a_dataframe,3.14)"
   ]
  },
  {
   "cell_type": "code",
   "execution_count": 11,
   "metadata": {
    "ExecuteTime": {
     "end_time": "2020-07-05T23:52:55.676406Z",
     "start_time": "2020-07-05T23:52:55.670469Z"
    }
   },
   "outputs": [
    {
     "data": {
      "text/html": [
       "<div>\n",
       "<style scoped>\n",
       "    .dataframe tbody tr th:only-of-type {\n",
       "        vertical-align: middle;\n",
       "    }\n",
       "\n",
       "    .dataframe tbody tr th {\n",
       "        vertical-align: top;\n",
       "    }\n",
       "\n",
       "    .dataframe thead th {\n",
       "        text-align: right;\n",
       "    }\n",
       "</style>\n",
       "<table border=\"1\" class=\"dataframe\">\n",
       "  <thead>\n",
       "    <tr style=\"text-align: right;\">\n",
       "      <th></th>\n",
       "      <th>COL_1</th>\n",
       "      <th>COL_2</th>\n",
       "      <th>COL_3</th>\n",
       "      <th>COL_4</th>\n",
       "    </tr>\n",
       "  </thead>\n",
       "  <tbody>\n",
       "    <tr>\n",
       "      <th>0</th>\n",
       "      <td>4.24</td>\n",
       "      <td>7.54</td>\n",
       "      <td>10.84</td>\n",
       "      <td>NaN</td>\n",
       "    </tr>\n",
       "    <tr>\n",
       "      <th>1</th>\n",
       "      <td>5.34</td>\n",
       "      <td>8.64</td>\n",
       "      <td>11.94</td>\n",
       "      <td>14.25</td>\n",
       "    </tr>\n",
       "    <tr>\n",
       "      <th>2</th>\n",
       "      <td>6.44</td>\n",
       "      <td>NaN</td>\n",
       "      <td>13.04</td>\n",
       "      <td>15.26</td>\n",
       "    </tr>\n",
       "  </tbody>\n",
       "</table>\n",
       "</div>"
      ],
      "text/plain": [
       "   COL_1  COL_2  COL_3  COL_4\n",
       "0   4.24   7.54  10.84    NaN\n",
       "1   5.34   8.64  11.94  14.25\n",
       "2   6.44    NaN  13.04  15.26"
      ]
     },
     "execution_count": 11,
     "metadata": {},
     "output_type": "execute_result"
    }
   ],
   "source": [
    "demo_result"
   ]
  },
  {
   "cell_type": "markdown",
   "metadata": {},
   "source": [
    "The first call above took 3+ seconds to execute. Let's call the fucntion egain with exactly the same parameters: "
   ]
  },
  {
   "cell_type": "code",
   "execution_count": 12,
   "metadata": {
    "ExecuteTime": {
     "end_time": "2020-07-05T23:52:55.692251Z",
     "start_time": "2020-07-05T23:52:55.678115Z"
    },
    "pycharm": {
     "name": "#%%\n"
    },
    "scrolled": true
   },
   "outputs": [
    {
     "name": "stdout",
     "output_type": "stream",
     "text": [
      "CPU times: user 9.43 ms, sys: 1.6 ms, total: 11 ms\n",
      "Wall time: 10.4 ms\n"
     ]
    }
   ],
   "source": [
    "%%time\n",
    "demo_result = slowly_process_dataframe(a_dataframe,3.14)"
   ]
  },
  {
   "cell_type": "code",
   "execution_count": 13,
   "metadata": {
    "ExecuteTime": {
     "end_time": "2020-07-05T23:52:55.700866Z",
     "start_time": "2020-07-05T23:52:55.694078Z"
    }
   },
   "outputs": [
    {
     "data": {
      "text/html": [
       "<div>\n",
       "<style scoped>\n",
       "    .dataframe tbody tr th:only-of-type {\n",
       "        vertical-align: middle;\n",
       "    }\n",
       "\n",
       "    .dataframe tbody tr th {\n",
       "        vertical-align: top;\n",
       "    }\n",
       "\n",
       "    .dataframe thead th {\n",
       "        text-align: right;\n",
       "    }\n",
       "</style>\n",
       "<table border=\"1\" class=\"dataframe\">\n",
       "  <thead>\n",
       "    <tr style=\"text-align: right;\">\n",
       "      <th></th>\n",
       "      <th>COL_1</th>\n",
       "      <th>COL_2</th>\n",
       "      <th>COL_3</th>\n",
       "      <th>COL_4</th>\n",
       "    </tr>\n",
       "  </thead>\n",
       "  <tbody>\n",
       "    <tr>\n",
       "      <th>0</th>\n",
       "      <td>4.24</td>\n",
       "      <td>7.54</td>\n",
       "      <td>10.84</td>\n",
       "      <td>NaN</td>\n",
       "    </tr>\n",
       "    <tr>\n",
       "      <th>1</th>\n",
       "      <td>5.34</td>\n",
       "      <td>8.64</td>\n",
       "      <td>11.94</td>\n",
       "      <td>14.25</td>\n",
       "    </tr>\n",
       "    <tr>\n",
       "      <th>2</th>\n",
       "      <td>6.44</td>\n",
       "      <td>NaN</td>\n",
       "      <td>13.04</td>\n",
       "      <td>15.26</td>\n",
       "    </tr>\n",
       "  </tbody>\n",
       "</table>\n",
       "</div>"
      ],
      "text/plain": [
       "   COL_1  COL_2  COL_3  COL_4\n",
       "0   4.24   7.54  10.84    NaN\n",
       "1   5.34   8.64  11.94  14.25\n",
       "2   6.44    NaN  13.04  15.26"
      ]
     },
     "execution_count": 13,
     "metadata": {},
     "output_type": "execute_result"
    }
   ],
   "source": [
    "demo_result"
   ]
  },
  {
   "cell_type": "markdown",
   "metadata": {
    "ExecuteTime": {
     "end_time": "2020-05-29T04:27:51.633713Z",
     "start_time": "2020-05-29T04:27:51.626995Z"
    }
   },
   "source": [
    "The second and all subsequent calls to **slowly_process_dataframe()** \n",
    "are now much faster: we went down from 3 seconds to just 11 milliseconds."
   ]
  },
  {
   "cell_type": "markdown",
   "metadata": {},
   "source": [
    "### Calling the same function with different parameters"
   ]
  },
  {
   "cell_type": "code",
   "execution_count": 14,
   "metadata": {
    "ExecuteTime": {
     "end_time": "2020-07-05T23:52:55.707619Z",
     "start_time": "2020-07-05T23:52:55.702346Z"
    }
   },
   "outputs": [
    {
     "data": {
      "text/html": [
       "<div>\n",
       "<style scoped>\n",
       "    .dataframe tbody tr th:only-of-type {\n",
       "        vertical-align: middle;\n",
       "    }\n",
       "\n",
       "    .dataframe tbody tr th {\n",
       "        vertical-align: top;\n",
       "    }\n",
       "\n",
       "    .dataframe thead th {\n",
       "        text-align: right;\n",
       "    }\n",
       "</style>\n",
       "<table border=\"1\" class=\"dataframe\">\n",
       "  <thead>\n",
       "    <tr style=\"text-align: right;\">\n",
       "      <th></th>\n",
       "      <th>COL_1</th>\n",
       "      <th>COL_2</th>\n",
       "      <th>COL_3</th>\n",
       "      <th>COL_4</th>\n",
       "    </tr>\n",
       "  </thead>\n",
       "  <tbody>\n",
       "    <tr>\n",
       "      <th>0</th>\n",
       "      <td>1.1</td>\n",
       "      <td>4.4</td>\n",
       "      <td>7.7</td>\n",
       "      <td>NaN</td>\n",
       "    </tr>\n",
       "    <tr>\n",
       "      <th>1</th>\n",
       "      <td>2.2</td>\n",
       "      <td>5.5</td>\n",
       "      <td>8.8</td>\n",
       "      <td>11.11</td>\n",
       "    </tr>\n",
       "    <tr>\n",
       "      <th>2</th>\n",
       "      <td>3.3</td>\n",
       "      <td>NaN</td>\n",
       "      <td>9.9</td>\n",
       "      <td>12.12</td>\n",
       "    </tr>\n",
       "  </tbody>\n",
       "</table>\n",
       "</div>"
      ],
      "text/plain": [
       "   COL_1  COL_2  COL_3  COL_4\n",
       "0    1.1    4.4    7.7    NaN\n",
       "1    2.2    5.5    8.8  11.11\n",
       "2    3.3    NaN    9.9  12.12"
      ]
     },
     "execution_count": 14,
     "metadata": {},
     "output_type": "execute_result"
    }
   ],
   "source": [
    "a_dataframe"
   ]
  },
  {
   "cell_type": "code",
   "execution_count": 15,
   "metadata": {
    "ExecuteTime": {
     "end_time": "2020-07-05T23:52:55.710867Z",
     "start_time": "2020-07-05T23:52:55.708872Z"
    }
   },
   "outputs": [],
   "source": [
    "a_dataframe.iat[1,1] = -100"
   ]
  },
  {
   "cell_type": "code",
   "execution_count": 16,
   "metadata": {
    "ExecuteTime": {
     "end_time": "2020-07-05T23:52:55.717846Z",
     "start_time": "2020-07-05T23:52:55.712273Z"
    }
   },
   "outputs": [
    {
     "data": {
      "text/html": [
       "<div>\n",
       "<style scoped>\n",
       "    .dataframe tbody tr th:only-of-type {\n",
       "        vertical-align: middle;\n",
       "    }\n",
       "\n",
       "    .dataframe tbody tr th {\n",
       "        vertical-align: top;\n",
       "    }\n",
       "\n",
       "    .dataframe thead th {\n",
       "        text-align: right;\n",
       "    }\n",
       "</style>\n",
       "<table border=\"1\" class=\"dataframe\">\n",
       "  <thead>\n",
       "    <tr style=\"text-align: right;\">\n",
       "      <th></th>\n",
       "      <th>COL_1</th>\n",
       "      <th>COL_2</th>\n",
       "      <th>COL_3</th>\n",
       "      <th>COL_4</th>\n",
       "    </tr>\n",
       "  </thead>\n",
       "  <tbody>\n",
       "    <tr>\n",
       "      <th>0</th>\n",
       "      <td>1.1</td>\n",
       "      <td>4.4</td>\n",
       "      <td>7.7</td>\n",
       "      <td>NaN</td>\n",
       "    </tr>\n",
       "    <tr>\n",
       "      <th>1</th>\n",
       "      <td>2.2</td>\n",
       "      <td>-100.0</td>\n",
       "      <td>8.8</td>\n",
       "      <td>11.11</td>\n",
       "    </tr>\n",
       "    <tr>\n",
       "      <th>2</th>\n",
       "      <td>3.3</td>\n",
       "      <td>NaN</td>\n",
       "      <td>9.9</td>\n",
       "      <td>12.12</td>\n",
       "    </tr>\n",
       "  </tbody>\n",
       "</table>\n",
       "</div>"
      ],
      "text/plain": [
       "   COL_1  COL_2  COL_3  COL_4\n",
       "0    1.1    4.4    7.7    NaN\n",
       "1    2.2 -100.0    8.8  11.11\n",
       "2    3.3    NaN    9.9  12.12"
      ]
     },
     "execution_count": 16,
     "metadata": {},
     "output_type": "execute_result"
    }
   ],
   "source": [
    "a_dataframe"
   ]
  },
  {
   "cell_type": "code",
   "execution_count": 17,
   "metadata": {
    "ExecuteTime": {
     "end_time": "2020-07-05T23:52:58.751858Z",
     "start_time": "2020-07-05T23:52:55.719195Z"
    },
    "pycharm": {
     "name": "#%%\n"
    }
   },
   "outputs": [
    {
     "name": "stdout",
     "output_type": "stream",
     "text": [
      "CPU times: user 22.4 ms, sys: 3.67 ms, total: 26.1 ms\n",
      "Wall time: 3.03 s\n"
     ]
    }
   ],
   "source": [
    "%%time\n",
    "demo_result = slowly_process_dataframe(a_dataframe,3.14)"
   ]
  },
  {
   "cell_type": "code",
   "execution_count": 18,
   "metadata": {
    "ExecuteTime": {
     "end_time": "2020-07-05T23:52:58.759135Z",
     "start_time": "2020-07-05T23:52:58.753837Z"
    }
   },
   "outputs": [
    {
     "data": {
      "text/html": [
       "<div>\n",
       "<style scoped>\n",
       "    .dataframe tbody tr th:only-of-type {\n",
       "        vertical-align: middle;\n",
       "    }\n",
       "\n",
       "    .dataframe tbody tr th {\n",
       "        vertical-align: top;\n",
       "    }\n",
       "\n",
       "    .dataframe thead th {\n",
       "        text-align: right;\n",
       "    }\n",
       "</style>\n",
       "<table border=\"1\" class=\"dataframe\">\n",
       "  <thead>\n",
       "    <tr style=\"text-align: right;\">\n",
       "      <th></th>\n",
       "      <th>COL_1</th>\n",
       "      <th>COL_2</th>\n",
       "      <th>COL_3</th>\n",
       "      <th>COL_4</th>\n",
       "    </tr>\n",
       "  </thead>\n",
       "  <tbody>\n",
       "    <tr>\n",
       "      <th>0</th>\n",
       "      <td>4.24</td>\n",
       "      <td>7.54</td>\n",
       "      <td>10.84</td>\n",
       "      <td>NaN</td>\n",
       "    </tr>\n",
       "    <tr>\n",
       "      <th>1</th>\n",
       "      <td>5.34</td>\n",
       "      <td>-96.86</td>\n",
       "      <td>11.94</td>\n",
       "      <td>14.25</td>\n",
       "    </tr>\n",
       "    <tr>\n",
       "      <th>2</th>\n",
       "      <td>6.44</td>\n",
       "      <td>NaN</td>\n",
       "      <td>13.04</td>\n",
       "      <td>15.26</td>\n",
       "    </tr>\n",
       "  </tbody>\n",
       "</table>\n",
       "</div>"
      ],
      "text/plain": [
       "   COL_1  COL_2  COL_3  COL_4\n",
       "0   4.24   7.54  10.84    NaN\n",
       "1   5.34 -96.86  11.94  14.25\n",
       "2   6.44    NaN  13.04  15.26"
      ]
     },
     "execution_count": 18,
     "metadata": {},
     "output_type": "execute_result"
    }
   ],
   "source": [
    "demo_result"
   ]
  },
  {
   "cell_type": "code",
   "execution_count": 19,
   "metadata": {
    "ExecuteTime": {
     "end_time": "2020-07-05T23:52:58.774476Z",
     "start_time": "2020-07-05T23:52:58.760798Z"
    },
    "pycharm": {
     "name": "#%%\n"
    }
   },
   "outputs": [
    {
     "name": "stdout",
     "output_type": "stream",
     "text": [
      "CPU times: user 9.78 ms, sys: 1.85 ms, total: 11.6 ms\n",
      "Wall time: 10.9 ms\n"
     ]
    }
   ],
   "source": [
    "%%time\n",
    "demo_result = slowly_process_dataframe(a_dataframe,3.14)"
   ]
  },
  {
   "cell_type": "code",
   "execution_count": 20,
   "metadata": {
    "ExecuteTime": {
     "end_time": "2020-07-05T23:52:58.781932Z",
     "start_time": "2020-07-05T23:52:58.776391Z"
    }
   },
   "outputs": [
    {
     "data": {
      "text/html": [
       "<div>\n",
       "<style scoped>\n",
       "    .dataframe tbody tr th:only-of-type {\n",
       "        vertical-align: middle;\n",
       "    }\n",
       "\n",
       "    .dataframe tbody tr th {\n",
       "        vertical-align: top;\n",
       "    }\n",
       "\n",
       "    .dataframe thead th {\n",
       "        text-align: right;\n",
       "    }\n",
       "</style>\n",
       "<table border=\"1\" class=\"dataframe\">\n",
       "  <thead>\n",
       "    <tr style=\"text-align: right;\">\n",
       "      <th></th>\n",
       "      <th>COL_1</th>\n",
       "      <th>COL_2</th>\n",
       "      <th>COL_3</th>\n",
       "      <th>COL_4</th>\n",
       "    </tr>\n",
       "  </thead>\n",
       "  <tbody>\n",
       "    <tr>\n",
       "      <th>0</th>\n",
       "      <td>4.24</td>\n",
       "      <td>7.54</td>\n",
       "      <td>10.84</td>\n",
       "      <td>NaN</td>\n",
       "    </tr>\n",
       "    <tr>\n",
       "      <th>1</th>\n",
       "      <td>5.34</td>\n",
       "      <td>-96.86</td>\n",
       "      <td>11.94</td>\n",
       "      <td>14.25</td>\n",
       "    </tr>\n",
       "    <tr>\n",
       "      <th>2</th>\n",
       "      <td>6.44</td>\n",
       "      <td>NaN</td>\n",
       "      <td>13.04</td>\n",
       "      <td>15.26</td>\n",
       "    </tr>\n",
       "  </tbody>\n",
       "</table>\n",
       "</div>"
      ],
      "text/plain": [
       "   COL_1  COL_2  COL_3  COL_4\n",
       "0   4.24   7.54  10.84    NaN\n",
       "1   5.34 -96.86  11.94  14.25\n",
       "2   6.44    NaN  13.04  15.26"
      ]
     },
     "execution_count": 20,
     "metadata": {},
     "output_type": "execute_result"
    }
   ],
   "source": [
    "demo_result"
   ]
  },
  {
   "cell_type": "markdown",
   "metadata": {},
   "source": [
    "The first time we called the function with sligtly different parameters (one value in the input dataframe was changed), it again took 3 seconds to execute. However, the second attempt to call the function with the same new parameters was way faster."
   ]
  },
  {
   "cell_type": "code",
   "execution_count": 21,
   "metadata": {
    "ExecuteTime": {
     "end_time": "2020-07-05T23:52:58.799936Z",
     "start_time": "2020-07-05T23:52:58.783653Z"
    },
    "pycharm": {
     "name": "#%%\n"
    }
   },
   "outputs": [
    {
     "name": "stdout",
     "output_type": "stream",
     "text": [
      "PickleCache in directory <./cache_files> contains 2 files, with total size 2 Kb. There are 275 Gb of free space available in the directory. Cache files are expected to have <.pkl> extension. Input files should be located in <.> folder, which contains 220 files, with total size 942 Kb. Cache READER is ACTIVE: cached versions of objects are loaded from disk if they are available there. Cache WRITER is ACTIVE: new objects get saved to disk as they are created. Names of cache files can not be longer than 250 characters. The following KEY-VALUE pairs will determine caching behaviour if they are present among function parameters or attributes of the parameters on any nested level: {'random_state': None}; a presence of an attribute or a parameter with the KEY name will disable caching, unless the parameter/attribute is set to VALUE. Logger pythagoras.PickleCache.140652536762672.demo_cache_obj (WARNING)\n"
     ]
    }
   ],
   "source": [
    "print(demo_cache_obj)  # print the status of the cache "
   ]
  },
  {
   "cell_type": "markdown",
   "metadata": {},
   "source": [
    "### How does it work?\n",
    "The first time we ran **slowly_process_dataframe()**, Pythagoras cached the output of the function.\n",
    "The next time the function was called, Pythagoras re-used that output, without actually executing the original fucntion. The output is stored as a pickle file, so it will save you time even when you run your notebook again next month.\n",
    "\n",
    "If we pass some other arguments to the functions, the same process will repeat.\n",
    "For each combination of different values, passed as function arguments, Pythagoras will create a new cache file.\n",
    "If you have enough disk space, it will save you a lot of time.\n",
    "\n",
    "> Pythagoras works not only with simple types of function arguments \n",
    "> (such as int or str),  but also with many others,\n",
    "> including DataFrames, dicts, lists, sets, \n",
    "> and all their possible combinations.\n",
    "> **Most of other persistent caching libraries can not do it today, \n",
    ">  they only work with limited group of basic argument types.**\n",
    "\n",
    "> If some existing or new (created by you) datatype\n",
    "> is not supported by Pythagoras out-of-the-box,\n",
    "> it provides a simple extensibility mechanism that allows you to \n",
    "> add support for any new type with just a few lines of code.\n",
    "> **Other persistent caching libraries can not easily recognize new types today.**\n",
    "\n",
    "> How can Pythagoras offer such a powerful flexibility \n",
    "> while almost all the other caching libraries only support \n",
    "> a limited number of datatypes for function arguments?\n",
    "\n",
    "> Most of the existing caching libraries in Python use\n",
    "> easy-to-implement algorithms that only allow to work \n",
    "> with immutable values. Pythagoras uses different approach \n",
    "> that can work with both mutable and immutable values.\n",
    "> This allows Pythagoras to cache functions whose parameters \n",
    "> can be of virtually any existing type/class.\n",
    "\n",
    "So, the next time you need to do complex feature engineering\n",
    "by transforming a large dataframe into another, even larger dataframe,\n",
    "put your feature engineering code into a function and decorate it with PickleCache object."
   ]
  },
  {
   "cell_type": "markdown",
   "metadata": {},
   "source": [
    "### Important note\n",
    "\n",
    "This approach only works with functions that create their output \n",
    "using exclusively the input argumets, without accessing any outside data.\n",
    "If a function reads from global variables, or files, or Internet, \n",
    "or uses current time, etc.,\n",
    "such function is not compatible with PickleCache"
   ]
  },
  {
   "cell_type": "markdown",
   "metadata": {},
   "source": [
    "### What is under the hood?\n"
   ]
  },
  {
   "cell_type": "markdown",
   "metadata": {},
   "source": [
    "For every function, which we modified with PickleCach decorator, \n",
    "Pythagoras creates a sub-folder within the main cache_dir folder.\n",
    "The name of sub-folder consists of a keyword \"Func\" plus the function's name \n",
    "plus its digital fingerprint. \n",
    "\n",
    "For example, for our slow function above, the subfolder was named \n",
    "**Func\\_\\_slowly\\_process\\_dataframe\\_\\_bdca2**\n"
   ]
  },
  {
   "cell_type": "code",
   "execution_count": 22,
   "metadata": {
    "ExecuteTime": {
     "end_time": "2020-07-05T23:52:58.914773Z",
     "start_time": "2020-07-05T23:52:58.801282Z"
    },
    "pycharm": {
     "name": "#%%\n"
    }
   },
   "outputs": [
    {
     "name": "stdout",
     "output_type": "stream",
     "text": [
      "\u001B[34mFunc__slowly_process_dataframe__59c21\u001B[m\u001B[m\r\n"
     ]
    }
   ],
   "source": [
    "!ls cache_files/"
   ]
  },
  {
   "cell_type": "markdown",
   "metadata": {},
   "source": [
    "Inside each subfolder, Pythagoras puts .pkl files \n",
    "with different versions of function output.\n",
    "\n",
    "The name of each file consists of function's digital signature, \n",
    "plus slim human-readable summary representation of function arguments,\n",
    "plus digital fingerprint of function arguments.\n",
    "\n",
    "For example, for our slow function the subfolder now includes 2 files:"
   ]
  },
  {
   "cell_type": "code",
   "execution_count": 23,
   "metadata": {
    "ExecuteTime": {
     "end_time": "2020-07-05T23:52:59.031971Z",
     "start_time": "2020-07-05T23:52:58.919560Z"
    },
    "pycharm": {
     "name": "#%%\n"
    }
   },
   "outputs": [
    {
     "name": "stdout",
     "output_type": "stream",
     "text": [
      "ls: cache_files/Func__slowly_process_dataframe__bdca2: No such file or directory\r\n"
     ]
    }
   ],
   "source": [
    "!ls cache_files/Func__slowly_process_dataframe__bdca2"
   ]
  },
  {
   "cell_type": "markdown",
   "metadata": {},
   "source": [
    "Slim human-readable parameter representations in the file-names allow to visually inpect the caching directory and help you better understan behavior of your PickleCache-enabled code. Digital fingerprints in the file-names allow PickleCache to uniquely identify and distinguish different parameter values, passed to the function when it was called."
   ]
  },
  {
   "cell_type": "markdown",
   "metadata": {},
   "source": [
    "### A fast function + Pythagoras"
   ]
  },
  {
   "cell_type": "markdown",
   "metadata": {},
   "source": [
    "But what if a function is fast and an extra step of saving its output into \n",
    "a .pkl file actually slows down the process insted of speeding it up?\n",
    "\n",
    "Pythagoras will still do what we told it to do, but it will give us a warning:"
   ]
  },
  {
   "cell_type": "code",
   "execution_count": 24,
   "metadata": {
    "ExecuteTime": {
     "end_time": "2020-07-05T23:52:59.036319Z",
     "start_time": "2020-07-05T23:52:59.034401Z"
    }
   },
   "outputs": [],
   "source": [
    "@demo_cache_obj\n",
    "def fast_function(x,y):\n",
    "    return x+\" \"+y"
   ]
  },
  {
   "cell_type": "code",
   "execution_count": 25,
   "metadata": {
    "ExecuteTime": {
     "end_time": "2020-07-05T23:52:59.067966Z",
     "start_time": "2020-07-05T23:52:59.037480Z"
    }
   },
   "outputs": [
    {
     "name": "stdout",
     "output_type": "stream",
     "text": [
      "CPU times: user 22.8 ms, sys: 4.99 ms, total: 27.8 ms\n",
      "Wall time: 27 ms\n"
     ]
    }
   ],
   "source": [
    "%%time\n",
    "result = fast_function(\"Message for\",\"Bob\")"
   ]
  },
  {
   "cell_type": "code",
   "execution_count": 26,
   "metadata": {
    "ExecuteTime": {
     "end_time": "2020-07-05T23:52:59.081112Z",
     "start_time": "2020-07-05T23:52:59.069297Z"
    }
   },
   "outputs": [
    {
     "name": "stderr",
     "output_type": "stream",
     "text": [
      "02:56:03 pythagoras.PickleCache.140652536762672.demo_cache_obj.  [pid:6142]  WARNING: Caching did not save time. Finished reading 93 B file ./cache_files/Func__fast_function__08fda/08fda__StrMessage_for__StrBob__7bb3bb0d6c7035.pkl. The process took 0.000874 seconds now, while in the past it costed 4.05e-06 seconds to generate the same data using function fast_function().\n",
      "\n"
     ]
    },
    {
     "name": "stdout",
     "output_type": "stream",
     "text": [
      "CPU times: user 8.34 ms, sys: 1.73 ms, total: 10.1 ms\n",
      "Wall time: 9.52 ms\n"
     ]
    }
   ],
   "source": [
    "%%time\n",
    "result = fast_function(\"Message for\",\"Bob\")"
   ]
  },
  {
   "cell_type": "code",
   "execution_count": 27,
   "metadata": {
    "ExecuteTime": {
     "end_time": "2020-07-05T23:52:59.096079Z",
     "start_time": "2020-07-05T23:52:59.082273Z"
    },
    "pycharm": {
     "name": "#%%\n"
    }
   },
   "outputs": [
    {
     "name": "stdout",
     "output_type": "stream",
     "text": [
      "PickleCache in directory <./cache_files> contains 3 files, with total size 2 Kb. There are 275 Gb of free space available in the directory. Cache files are expected to have <.pkl> extension. Input files should be located in <.> folder, which contains 221 files, with total size 942 Kb. Cache READER is ACTIVE: cached versions of objects are loaded from disk if they are available there. Cache WRITER is ACTIVE: new objects get saved to disk as they are created. Names of cache files can not be longer than 250 characters. The following KEY-VALUE pairs will determine caching behaviour if they are present among function parameters or attributes of the parameters on any nested level: {'random_state': None}; a presence of an attribute or a parameter with the KEY name will disable caching, unless the parameter/attribute is set to VALUE. Logger pythagoras.PickleCache.140652536762672.demo_cache_obj (WARNING)\n"
     ]
    }
   ],
   "source": [
    "print(demo_cache_obj)  # print the status of the cache "
   ]
  },
  {
   "cell_type": "markdown",
   "metadata": {
    "ExecuteTime": {
     "end_time": "2020-05-28T23:26:26.324304Z",
     "start_time": "2020-05-28T23:26:26.322737Z"
    }
   },
   "source": [
    "## How To Cache .read_csv() "
   ]
  },
  {
   "cell_type": "markdown",
   "metadata": {
    "ExecuteTime": {
     "end_time": "2020-05-28T21:32:49.451406Z",
     "start_time": "2020-05-28T21:32:49.449333Z"
    }
   },
   "source": [
    "Reading *.csv* files can be slow. Let's create one and play with it:"
   ]
  },
  {
   "cell_type": "code",
   "execution_count": 28,
   "metadata": {
    "ExecuteTime": {
     "end_time": "2020-07-05T23:52:59.484189Z",
     "start_time": "2020-07-05T23:52:59.097404Z"
    }
   },
   "outputs": [],
   "source": [
    "large_dataframe = pd.DataFrame(data = 1000*np.random.rand(7000,7000))"
   ]
  },
  {
   "cell_type": "code",
   "execution_count": 29,
   "metadata": {
    "ExecuteTime": {
     "end_time": "2020-07-05T23:53:48.671316Z",
     "start_time": "2020-07-05T23:52:59.485736Z"
    }
   },
   "outputs": [],
   "source": [
    "large_dataframe.to_csv(\"example.csv\", index=False)"
   ]
  },
  {
   "cell_type": "code",
   "execution_count": 30,
   "metadata": {
    "ExecuteTime": {
     "end_time": "2020-07-05T23:53:58.758811Z",
     "start_time": "2020-07-05T23:53:48.673234Z"
    }
   },
   "outputs": [
    {
     "name": "stdout",
     "output_type": "stream",
     "text": [
      "CPU times: user 8.28 s, sys: 533 ms, total: 8.82 s\n",
      "Wall time: 8.84 s\n"
     ]
    }
   ],
   "source": [
    "%%time\n",
    "new_dataframe = pd.read_csv(\"example.csv\")"
   ]
  },
  {
   "cell_type": "code",
   "execution_count": 31,
   "metadata": {
    "ExecuteTime": {
     "end_time": "2020-07-05T23:53:58.763219Z",
     "start_time": "2020-07-05T23:53:58.760544Z"
    }
   },
   "outputs": [
    {
     "data": {
      "text/plain": [
       "(7000, 7000)"
      ]
     },
     "execution_count": 31,
     "metadata": {},
     "output_type": "execute_result"
    }
   ],
   "source": [
    "new_dataframe.shape"
   ]
  },
  {
   "cell_type": "markdown",
   "metadata": {},
   "source": [
    "Now, let's try a version of **.read_csv()** offered by Pythagoras:"
   ]
  },
  {
   "cell_type": "code",
   "execution_count": 32,
   "metadata": {
    "ExecuteTime": {
     "end_time": "2020-07-05T23:54:09.143517Z",
     "start_time": "2020-07-05T23:53:58.764424Z"
    }
   },
   "outputs": [
    {
     "name": "stdout",
     "output_type": "stream",
     "text": [
      "CPU times: user 8.31 s, sys: 625 ms, total: 8.94 s\n",
      "Wall time: 9.11 s\n"
     ]
    }
   ],
   "source": [
    "%%time\n",
    "new_dataframe = demo_cache_obj.read_csv(\"example.csv\")"
   ]
  },
  {
   "cell_type": "code",
   "execution_count": 33,
   "metadata": {
    "ExecuteTime": {
     "end_time": "2020-07-05T23:54:09.243203Z",
     "start_time": "2020-07-05T23:54:09.145329Z"
    }
   },
   "outputs": [
    {
     "name": "stdout",
     "output_type": "stream",
     "text": [
      "CPU times: user 8.74 ms, sys: 76.9 ms, total: 85.6 ms\n",
      "Wall time: 85.2 ms\n"
     ]
    }
   ],
   "source": [
    "%%time\n",
    "new_dataframe = demo_cache_obj.read_csv(\"example.csv\")"
   ]
  },
  {
   "cell_type": "code",
   "execution_count": 34,
   "metadata": {
    "ExecuteTime": {
     "end_time": "2020-07-05T23:54:09.246779Z",
     "start_time": "2020-07-05T23:54:09.244515Z"
    }
   },
   "outputs": [
    {
     "data": {
      "text/plain": [
       "(7000, 7000)"
      ]
     },
     "execution_count": 34,
     "metadata": {},
     "output_type": "execute_result"
    }
   ],
   "source": [
    "new_dataframe.shape"
   ]
  },
  {
   "cell_type": "markdown",
   "metadata": {},
   "source": [
    "The second and all subsequent calls to Pythagoras' **.read_csv()** are much faster: we went down from 10.4 seconds to 96 milliseconds - it's 108-x faster. For larger .csv files the difference is even more drastic."
   ]
  },
  {
   "cell_type": "markdown",
   "metadata": {
    "ExecuteTime": {
     "end_time": "2020-05-28T23:27:04.530603Z",
     "start_time": "2020-05-28T23:27:04.527407Z"
    }
   },
   "source": [
    "###  How does it work?"
   ]
  },
  {
   "cell_type": "markdown",
   "metadata": {
    "ExecuteTime": {
     "end_time": "2020-05-28T23:27:23.069935Z",
     "start_time": "2020-05-28T23:27:23.067132Z"
    }
   },
   "source": [
    "The first time we ran **PickleCache.read_csv()**, Pythagoras cached the output of the function.\n",
    "The next time  **PickleCache.read_csv()** was called with the same filename as an argument,\n",
    "Pythagoras re-used that output, without actually reading the original **.csv**.\n",
    "The cached output is stored as a pickle file.\n",
    "\n",
    "If we modify the **.csv** file outside of our notebook, or if you add more arguments\n",
    "to **PickleCache.read_csv()** call, the same process will repeat.\n",
    "For each new version of the **.csv** file, and for each combination of additional parameters,\n",
    "Pythagoras will create a new cache file.\n",
    "If you have enough disk space, it will save you a lot of your time.\n",
    "\n",
    "Pickle can be loaded much faster than .csv,\n",
    "this approach saves substantial time while working with large .csv files.\n",
    "\n",
    "**PickleCache.read_csv()** accepts all *keyword arguments*\n",
    "which **pandas.read_csv()** accepts,\n",
    "such as *sep*, *names*, *index_col*, *dtype*, *na_values*, etc.\n",
    "You can use them to fine-tune behaviour of **read_csv()**"
   ]
  },
  {
   "cell_type": "markdown",
   "metadata": {
    "ExecuteTime": {
     "end_time": "2020-05-28T23:27:44.792548Z",
     "start_time": "2020-05-28T23:27:44.790907Z"
    }
   },
   "source": [
    "### What is under the hood?"
   ]
  },
  {
   "cell_type": "markdown",
   "metadata": {
    "ExecuteTime": {
     "end_time": "2020-05-29T04:34:12.386968Z",
     "start_time": "2020-05-29T04:34:12.380689Z"
    }
   },
   "source": [
    "For every csv file, which we read with **PickleCach.read_csv()** function ,\n",
    "Pythagoras creates a sub-folder within the main cache_dir folder. \n",
    "The name of sub-folder consists of a keyword \"Data\" \n",
    "plus the original file's name plus a digital fingerprint of the filename.\n",
    "\n",
    "For instance, for our file **example.csv** the subfolder was named **Data\\_\\_example.csv\\_\\_44e43**\n"
   ]
  },
  {
   "cell_type": "code",
   "execution_count": 35,
   "metadata": {
    "ExecuteTime": {
     "end_time": "2020-07-05T23:54:09.369036Z",
     "start_time": "2020-07-05T23:54:09.248057Z"
    }
   },
   "outputs": [
    {
     "name": "stdout",
     "output_type": "stream",
     "text": [
      "\u001B[34mData__example.csv__37f98\u001B[m\u001B[m              \u001B[34mFunc__slowly_process_dataframe__59c21\u001B[m\u001B[m\r\n",
      "\u001B[34mFunc__fast_function__08fda\u001B[m\u001B[m\r\n"
     ]
    }
   ],
   "source": [
    "!ls cache_files"
   ]
  },
  {
   "cell_type": "markdown",
   "metadata": {},
   "source": [
    "Inside each subfolder Pythagoras puts .pkl files with different versions of \n",
    "data from the original .csv file.\n",
    "\n",
    "The name of each .pkl file consists of digital fingerprint of the original .csv filename\n",
    ", plus the size of the original .csv file, plus datetime of its modification\n",
    ", plus encoded information about additional arguments, that were passed to the function.\n",
    "\n",
    "For instance, for our **example.csv** file, the subfolder should include only one file now:"
   ]
  },
  {
   "cell_type": "code",
   "execution_count": 36,
   "metadata": {
    "ExecuteTime": {
     "end_time": "2020-07-05T23:54:09.484155Z",
     "start_time": "2020-07-05T23:54:09.370460Z"
    }
   },
   "outputs": [
    {
     "name": "stdout",
     "output_type": "stream",
     "text": [
      "ls: cache_files/Data__example.csv__44e43: No such file or directory\r\n"
     ]
    }
   ],
   "source": [
    "!ls cache_files/Data__example.csv__44e43"
   ]
  },
  {
   "cell_type": "markdown",
   "metadata": {},
   "source": [
    "But let's call **read_csv()** with an extra argument, \n",
    "and then look into our subfolder again:"
   ]
  },
  {
   "cell_type": "code",
   "execution_count": 37,
   "metadata": {
    "ExecuteTime": {
     "end_time": "2020-07-05T23:54:12.078918Z",
     "start_time": "2020-07-05T23:54:09.485783Z"
    }
   },
   "outputs": [],
   "source": [
    "new_dataframe = demo_cache_obj.read_csv(\n",
    "    \"example.csv\", usecols=[2,3,4,5,6,7,8,9,10,11,12,12,14,15,16,17,18])"
   ]
  },
  {
   "cell_type": "code",
   "execution_count": 38,
   "metadata": {
    "ExecuteTime": {
     "end_time": "2020-07-05T23:54:12.084087Z",
     "start_time": "2020-07-05T23:54:12.080717Z"
    }
   },
   "outputs": [
    {
     "data": {
      "text/plain": [
       "(7000, 16)"
      ]
     },
     "execution_count": 38,
     "metadata": {},
     "output_type": "execute_result"
    }
   ],
   "source": [
    "new_dataframe.shape"
   ]
  },
  {
   "cell_type": "code",
   "execution_count": 39,
   "metadata": {
    "ExecuteTime": {
     "end_time": "2020-07-05T23:54:12.202681Z",
     "start_time": "2020-07-05T23:54:12.085582Z"
    }
   },
   "outputs": [
    {
     "name": "stdout",
     "output_type": "stream",
     "text": [
      "ls: cache_files/Data__example.csv__44e43: No such file or directory\r\n"
     ]
    }
   ],
   "source": [
    "!ls cache_files/Data__example.csv__44e43"
   ]
  },
  {
   "cell_type": "markdown",
   "metadata": {},
   "source": [
    "Pythagoras has created the second file. We can see from its name that **read_csv()** was called with an additional parameter named **usecols**, and the value of that parameter was a list with 17 elements. Exact values of these 17 elements are encoded into digital signature **cc7433ba843fa4** at the very end of the filename."
   ]
  },
  {
   "cell_type": "markdown",
   "metadata": {
    "ExecuteTime": {
     "end_time": "2020-05-29T00:57:28.982469Z",
     "start_time": "2020-05-29T00:57:28.978465Z"
    }
   },
   "source": [
    "## F.A.Q."
   ]
  },
  {
   "cell_type": "markdown",
   "metadata": {
    "ExecuteTime": {
     "end_time": "2020-05-29T00:58:02.838131Z",
     "start_time": "2020-05-29T00:58:02.833886Z"
    }
   },
   "source": [
    "### How to temporarily disable caching functionality?"
   ]
  },
  {
   "cell_type": "markdown",
   "metadata": {},
   "source": [
    "**PickleCache.__init__()** method accepts many parameters. \n",
    "You need to set two of them to **False**\n",
    "if you want to completely disable\n",
    "caching functionality provided by your PickleCache object.\n",
    "These parameters are **read_from_cache** and **write_to_cache**.\n",
    "\n",
    "When **write_to_cache** is set to **False**,\n",
    "PickleCache will never save new objects to disk,\n",
    "but it may still use existing cached objects when they are available\n",
    "(depends on **read_from_cache** ).\n",
    "\n",
    "When **read_from_cache** is set to **False**,\n",
    "PickleCache will never return cached values, stored in .pkl files. \n",
    "It will always generate the value by re-running the original method.\n",
    "However, PickleCache may still create new cached objects on disk in .pkl\n",
    "files if the files do not exists  (depends on flag **write_to_cache**).\n",
    "\n",
    "If you set both of these parameters to **False**, \n",
    "PickleCache will transparently forward your calls \n",
    "to the original data generation/reading functions, \n",
    "as if PickleCache does not exist; \n",
    "all caching functionality will be disabled.\n",
    "\n",
    "If you set **write_to_cache** to **True**,\n",
    "and **read_from_cache** to **False**,\n",
    "it will force PickleCache to\n",
    "overwrite existing cache entries, if they exist.\n",
    "\n",
    "**read_from_cache** and **write_to_cache** parameters\n",
    "can also be passed to **read_csv()** or to a decorated\n",
    "function at a time when a function is called.\n",
    "In this case the parameters will only affect\n",
    "behaviour of an individual function during the call,\n",
    "and will temporarily override values\n",
    "set for a PickleCache object via **__init__()** method.\n",
    "\n",
    "**read_from_cache** and **write_to_cache** parameters\n",
    "accept values of **True**, **False** and **None**.\n",
    "Passing **None** as an equivalent of\n",
    "not passing any value at all."
   ]
  },
  {
   "cell_type": "markdown",
   "metadata": {
    "ExecuteTime": {
     "end_time": "2020-05-29T01:06:08.967587Z",
     "start_time": "2020-05-29T01:06:08.963975Z"
    }
   },
   "source": [
    "### How to invalidate my cache?"
   ]
  },
  {
   "cell_type": "markdown",
   "metadata": {},
   "source": [
    "To invalidate the cache, simply delete the cache directory or appropriate sub-directories on your disk. "
   ]
  },
  {
   "cell_type": "markdown",
   "metadata": {
    "ExecuteTime": {
     "end_time": "2020-05-29T01:08:49.286257Z",
     "start_time": "2020-05-29T01:08:49.282153Z"
    }
   },
   "source": [
    "### How to make PickleCache more or less verbose?"
   ]
  },
  {
   "cell_type": "markdown",
   "metadata": {
    "pycharm": {
     "name": "#%% md\n"
    }
   },
   "source": [
    "PickleCache is actively using logging engine, \n",
    "provided by the standard Python **logging** module.\n",
    "\n",
    "Depending on the current logging level, PickleCache will print more or less messages.\n",
    "PickleCache specifically recognizes 3 levels: \n",
    "logging.DEBUG (the most verbose), logging.INFO \n",
    "and logging.WARNING (the least verbose).\n",
    "\n",
    "One way to change the current level is to put \n",
    "the following code at the very beginning of your notebook:\n",
    "    \n",
    "    import logging\n",
    "    logging.basicConfig(level=logging.WARNING)\n",
    "    \n",
    "This code will change logging level for the root logger, \n",
    "which means for your entire program. \n",
    "See Python documentation to learn about some very unique constraints\n",
    "associated with basicConfig() usage.\n",
    "\n",
    "Another way to change the current logging level is to \n",
    "use parameter **new_logging_level** \n",
    "while creating your PickleCache object:\n",
    "\n",
    "    demo_cache_obj = Pythagoras.PickleCache(\n",
    "    \n",
    "        cache_dir = \"./cache_files\"   # Here Pythagoras will store cashed data, \n",
    "                                      # if/when it needs to.\n",
    "                                    \n",
    "        ,input_dir = \".\"  # From here Pythagoras will read .csv files, \n",
    "                          # if/when asked.\n",
    "                          \n",
    "        ,new_logging_level = logging.WARNING # Print only warnings,\n",
    "                                             # discard less important messages.\n",
    "                                             \n",
    "        )"
   ]
  },
  {
   "cell_type": "markdown",
   "metadata": {},
   "source": [
    "### Is persistent caching the only functionality offered by Pythagoras?"
   ]
  },
  {
   "cell_type": "markdown",
   "metadata": {},
   "source": [
    "No. Pythagoras is a Python library which provides various tools to help\n",
    "data scientists be more efficient. Persistent Caching is just one of many tools (to come)."
   ]
  },
  {
   "cell_type": "markdown",
   "metadata": {},
   "source": [
    "## Next Steps"
   ]
  },
  {
   "cell_type": "markdown",
   "metadata": {},
   "source": [
    "Congratulations! You've just finished the **introductory level** \n",
    "of the Guide to persistent caching with Pythagoras. \n",
    "\n",
    "Please, proceed to the **[Advanced level](Pythagoras_caching_advanced_tutorial.ipynb)** of the Tutorial to learn how you can make PickleCache work with new classes and types."
   ]
  }
 ],
 "metadata": {
  "kernelspec": {
   "display_name": "Python 3 (ipykernel)",
   "language": "python",
   "name": "python3"
  },
  "language_info": {
   "codemirror_mode": {
    "name": "ipython",
    "version": 3
   },
   "file_extension": ".py",
   "mimetype": "text/x-python",
   "name": "python",
   "nbconvert_exporter": "python",
   "pygments_lexer": "ipython3",
   "version": "3.9.7"
  },
  "toc": {
   "base_numbering": 1,
   "nav_menu": {},
   "number_sections": true,
   "sideBar": true,
   "skip_h1_title": true,
   "title_cell": "Table of Contents",
   "title_sidebar": "Contents",
   "toc_cell": false,
   "toc_position": {},
   "toc_section_display": true,
   "toc_window_display": false
  }
 },
 "nbformat": 4,
 "nbformat_minor": 1
}